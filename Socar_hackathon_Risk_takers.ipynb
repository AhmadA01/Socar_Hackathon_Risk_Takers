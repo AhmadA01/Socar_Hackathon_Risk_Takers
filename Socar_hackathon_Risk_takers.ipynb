{
  "nbformat": 4,
  "nbformat_minor": 0,
  "metadata": {
    "colab": {
      "provenance": [],
      "collapsed_sections": []
    },
    "kernelspec": {
      "name": "python3",
      "display_name": "Python 3"
    },
    "language_info": {
      "name": "python"
    },
    "accelerator": "GPU",
    "gpuClass": "standard"
  },
  "cells": [
    {
      "cell_type": "code",
      "execution_count": null,
      "metadata": {
        "id": "mHW8ADLY-60v"
      },
      "outputs": [],
      "source": [
        "import pandas as pd\n",
        "import numpy as np\n"
      ]
    },
    {
      "cell_type": "code",
      "source": [
        "df=pd.DataFrame()"
      ],
      "metadata": {
        "id": "kFNdOLb8--g_"
      },
      "execution_count": null,
      "outputs": []
    },
    {
      "cell_type": "code",
      "source": [
        "df[\"Gün çıxma\"]=list(pd.date_range(\"05:10\", \"08:00\", freq=\"1min\").time)[::-1]*30\n",
        "df[\"Gün batma\"]=list(pd.date_range(\"17:24\", \"20:14\", freq=\"1min\").time)*30"
      ],
      "metadata": {
        "id": "h3nKCZwwOp4S"
      },
      "execution_count": null,
      "outputs": []
    },
    {
      "cell_type": "code",
      "source": [
        "df[\"Tarix\"]=pd.date_range(start='1/1/2021', periods=df.shape[0], freq='H')"
      ],
      "metadata": {
        "id": "NPcWpep9QUVE"
      },
      "execution_count": null,
      "outputs": []
    },
    {
      "cell_type": "code",
      "source": [
        "hava = ['çiskin', 'yağışlı', 'günəşli', 'qarlı', 'duman']\n",
        "df[\"Hava şəraiti\"]=np.random.choice(hava, df.shape[0], p=[0.03, 0.1, 0.835, 0.03,0.005])"
      ],
      "metadata": {
        "id": "NNKTzkSaCJ8-"
      },
      "execution_count": null,
      "outputs": []
    },
    {
      "cell_type": "code",
      "source": [
        "df[\"Month\"]=df[\"Tarix\"].apply(lambda x: x.month)"
      ],
      "metadata": {
        "id": "sF0U3F1ORlR9"
      },
      "execution_count": null,
      "outputs": []
    },
    {
      "cell_type": "code",
      "source": [
        "def find_season(month, hemisphere):\n",
        "    if hemisphere == 'Southern':\n",
        "        season_month_south = {\n",
        "            12:'Summer', 1:'Summer', 2:'Summer',\n",
        "            3:'Autumn', 4:'Autumn', 5:'Autumn',\n",
        "            6:'Winter', 7:'Winter', 8:'Winter',\n",
        "            9:'Spring', 10:'Spring', 11:'Spring'}\n",
        "        return season_month_south.get(month)\n",
        "        \n",
        "    elif hemisphere == 'Northern':\n",
        "        season_month_north = {\n",
        "            12:'Qış', 1:'Qış', 2:'Qış',\n",
        "            3:'Yaz', 4:'Yaz', 5:'Yaz',\n",
        "            6:'Yay', 7:'Yay', 8:'Yay',\n",
        "            9:'Payız', 10:'Payız', 11:'Payız'}\n",
        "        return season_month_north.get(month)\n",
        "    else:\n",
        "        print('Invalid selection. Please select a hemisphere and try again')"
      ],
      "metadata": {
        "id": "2L3eAsD0Ra4R"
      },
      "execution_count": null,
      "outputs": []
    },
    {
      "cell_type": "code",
      "source": [
        "season_list = []\n",
        "hemisphere = 'Northern'\n",
        "for month in df['Month']:\n",
        "    season = find_season(month, hemisphere)\n",
        "    season_list.append(season)\n",
        "    \n",
        "df['Fəsil'] = season_list"
      ],
      "metadata": {
        "id": "wy0-hKQQRdZG"
      },
      "execution_count": null,
      "outputs": []
    },
    {
      "cell_type": "code",
      "source": [
        "df[\"Panel sayı\"]=np.random.randint(10, high=30, size=df.shape[0], dtype=int)\n",
        "#df[\"Panel ölçüsü\"]=np.random.randint(10, high=30, size=df.shape[0], dtype=int)\n",
        "hava =[40,60,80,100,200,400]\n",
        "df[\"Panel gücü\"]=np.random.choice(hava, df.shape[0], p=[0.20, 0.20, 0.20, 0.20,0.1,0.1])"
      ],
      "metadata": {
        "id": "Jf1KUH3xWZOe"
      },
      "execution_count": null,
      "outputs": []
    },
    {
      "cell_type": "code",
      "source": [
        "df[\"Month\"]=df[\"Tarix\"].apply(lambda x: x.month)\n",
        "df[\"Day\"]=df[\"Tarix\"].apply(lambda x: x.day)\n",
        "df[\"Hour\"]=df[\"Tarix\"].apply(lambda x: x.hour)"
      ],
      "metadata": {
        "id": "AFZ8qAu9YWlQ"
      },
      "execution_count": null,
      "outputs": []
    },
    {
      "cell_type": "code",
      "source": [
        "df[\"Gün çıxa saat\"]=df[\"Gün çıxma\"].apply(lambda x: x.hour)\n",
        "df[\"Gün bata saat\"]=df[\"Gün batma\"].apply(lambda x: x.hour)"
      ],
      "metadata": {
        "id": "ByGGGUtCgM3D"
      },
      "execution_count": null,
      "outputs": []
    },
    {
      "cell_type": "code",
      "source": [
        "df.head()"
      ],
      "metadata": {
        "colab": {
          "base_uri": "https://localhost:8080/",
          "height": 206
        },
        "id": "kgva73RV_c4T",
        "outputId": "29ff319b-57ba-4f43-f2ed-8f082b50031c"
      },
      "execution_count": null,
      "outputs": [
        {
          "output_type": "execute_result",
          "data": {
            "text/plain": [
              "  Gün çıxma Gün batma               Tarix Hava şəraiti  Month Fəsil  \\\n",
              "0  08:00:00  17:24:00 2021-01-01 00:00:00      günəşli      1   Qış   \n",
              "1  07:59:00  17:25:00 2021-01-01 01:00:00      günəşli      1   Qış   \n",
              "2  07:58:00  17:26:00 2021-01-01 02:00:00      günəşli      1   Qış   \n",
              "3  07:57:00  17:27:00 2021-01-01 03:00:00       çiskin      1   Qış   \n",
              "4  07:56:00  17:28:00 2021-01-01 04:00:00      günəşli      1   Qış   \n",
              "\n",
              "   Panel sayı  Panel gücü  Day  Hour  Gün çıxa saat  Gün bata saat  \n",
              "0          25          40    1     0              8             17  \n",
              "1          11         100    1     1              7             17  \n",
              "2          24         100    1     2              7             17  \n",
              "3          25          40    1     3              7             17  \n",
              "4          26         400    1     4              7             17  "
            ],
            "text/html": [
              "\n",
              "  <div id=\"df-8783e448-f6e5-40b9-9f41-09faa280d9b5\">\n",
              "    <div class=\"colab-df-container\">\n",
              "      <div>\n",
              "<style scoped>\n",
              "    .dataframe tbody tr th:only-of-type {\n",
              "        vertical-align: middle;\n",
              "    }\n",
              "\n",
              "    .dataframe tbody tr th {\n",
              "        vertical-align: top;\n",
              "    }\n",
              "\n",
              "    .dataframe thead th {\n",
              "        text-align: right;\n",
              "    }\n",
              "</style>\n",
              "<table border=\"1\" class=\"dataframe\">\n",
              "  <thead>\n",
              "    <tr style=\"text-align: right;\">\n",
              "      <th></th>\n",
              "      <th>Gün çıxma</th>\n",
              "      <th>Gün batma</th>\n",
              "      <th>Tarix</th>\n",
              "      <th>Hava şəraiti</th>\n",
              "      <th>Month</th>\n",
              "      <th>Fəsil</th>\n",
              "      <th>Panel sayı</th>\n",
              "      <th>Panel gücü</th>\n",
              "      <th>Day</th>\n",
              "      <th>Hour</th>\n",
              "      <th>Gün çıxa saat</th>\n",
              "      <th>Gün bata saat</th>\n",
              "    </tr>\n",
              "  </thead>\n",
              "  <tbody>\n",
              "    <tr>\n",
              "      <th>0</th>\n",
              "      <td>08:00:00</td>\n",
              "      <td>17:24:00</td>\n",
              "      <td>2021-01-01 00:00:00</td>\n",
              "      <td>günəşli</td>\n",
              "      <td>1</td>\n",
              "      <td>Qış</td>\n",
              "      <td>25</td>\n",
              "      <td>40</td>\n",
              "      <td>1</td>\n",
              "      <td>0</td>\n",
              "      <td>8</td>\n",
              "      <td>17</td>\n",
              "    </tr>\n",
              "    <tr>\n",
              "      <th>1</th>\n",
              "      <td>07:59:00</td>\n",
              "      <td>17:25:00</td>\n",
              "      <td>2021-01-01 01:00:00</td>\n",
              "      <td>günəşli</td>\n",
              "      <td>1</td>\n",
              "      <td>Qış</td>\n",
              "      <td>11</td>\n",
              "      <td>100</td>\n",
              "      <td>1</td>\n",
              "      <td>1</td>\n",
              "      <td>7</td>\n",
              "      <td>17</td>\n",
              "    </tr>\n",
              "    <tr>\n",
              "      <th>2</th>\n",
              "      <td>07:58:00</td>\n",
              "      <td>17:26:00</td>\n",
              "      <td>2021-01-01 02:00:00</td>\n",
              "      <td>günəşli</td>\n",
              "      <td>1</td>\n",
              "      <td>Qış</td>\n",
              "      <td>24</td>\n",
              "      <td>100</td>\n",
              "      <td>1</td>\n",
              "      <td>2</td>\n",
              "      <td>7</td>\n",
              "      <td>17</td>\n",
              "    </tr>\n",
              "    <tr>\n",
              "      <th>3</th>\n",
              "      <td>07:57:00</td>\n",
              "      <td>17:27:00</td>\n",
              "      <td>2021-01-01 03:00:00</td>\n",
              "      <td>çiskin</td>\n",
              "      <td>1</td>\n",
              "      <td>Qış</td>\n",
              "      <td>25</td>\n",
              "      <td>40</td>\n",
              "      <td>1</td>\n",
              "      <td>3</td>\n",
              "      <td>7</td>\n",
              "      <td>17</td>\n",
              "    </tr>\n",
              "    <tr>\n",
              "      <th>4</th>\n",
              "      <td>07:56:00</td>\n",
              "      <td>17:28:00</td>\n",
              "      <td>2021-01-01 04:00:00</td>\n",
              "      <td>günəşli</td>\n",
              "      <td>1</td>\n",
              "      <td>Qış</td>\n",
              "      <td>26</td>\n",
              "      <td>400</td>\n",
              "      <td>1</td>\n",
              "      <td>4</td>\n",
              "      <td>7</td>\n",
              "      <td>17</td>\n",
              "    </tr>\n",
              "  </tbody>\n",
              "</table>\n",
              "</div>\n",
              "      <button class=\"colab-df-convert\" onclick=\"convertToInteractive('df-8783e448-f6e5-40b9-9f41-09faa280d9b5')\"\n",
              "              title=\"Convert this dataframe to an interactive table.\"\n",
              "              style=\"display:none;\">\n",
              "        \n",
              "  <svg xmlns=\"http://www.w3.org/2000/svg\" height=\"24px\"viewBox=\"0 0 24 24\"\n",
              "       width=\"24px\">\n",
              "    <path d=\"M0 0h24v24H0V0z\" fill=\"none\"/>\n",
              "    <path d=\"M18.56 5.44l.94 2.06.94-2.06 2.06-.94-2.06-.94-.94-2.06-.94 2.06-2.06.94zm-11 1L8.5 8.5l.94-2.06 2.06-.94-2.06-.94L8.5 2.5l-.94 2.06-2.06.94zm10 10l.94 2.06.94-2.06 2.06-.94-2.06-.94-.94-2.06-.94 2.06-2.06.94z\"/><path d=\"M17.41 7.96l-1.37-1.37c-.4-.4-.92-.59-1.43-.59-.52 0-1.04.2-1.43.59L10.3 9.45l-7.72 7.72c-.78.78-.78 2.05 0 2.83L4 21.41c.39.39.9.59 1.41.59.51 0 1.02-.2 1.41-.59l7.78-7.78 2.81-2.81c.8-.78.8-2.07 0-2.86zM5.41 20L4 18.59l7.72-7.72 1.47 1.35L5.41 20z\"/>\n",
              "  </svg>\n",
              "      </button>\n",
              "      \n",
              "  <style>\n",
              "    .colab-df-container {\n",
              "      display:flex;\n",
              "      flex-wrap:wrap;\n",
              "      gap: 12px;\n",
              "    }\n",
              "\n",
              "    .colab-df-convert {\n",
              "      background-color: #E8F0FE;\n",
              "      border: none;\n",
              "      border-radius: 50%;\n",
              "      cursor: pointer;\n",
              "      display: none;\n",
              "      fill: #1967D2;\n",
              "      height: 32px;\n",
              "      padding: 0 0 0 0;\n",
              "      width: 32px;\n",
              "    }\n",
              "\n",
              "    .colab-df-convert:hover {\n",
              "      background-color: #E2EBFA;\n",
              "      box-shadow: 0px 1px 2px rgba(60, 64, 67, 0.3), 0px 1px 3px 1px rgba(60, 64, 67, 0.15);\n",
              "      fill: #174EA6;\n",
              "    }\n",
              "\n",
              "    [theme=dark] .colab-df-convert {\n",
              "      background-color: #3B4455;\n",
              "      fill: #D2E3FC;\n",
              "    }\n",
              "\n",
              "    [theme=dark] .colab-df-convert:hover {\n",
              "      background-color: #434B5C;\n",
              "      box-shadow: 0px 1px 3px 1px rgba(0, 0, 0, 0.15);\n",
              "      filter: drop-shadow(0px 1px 2px rgba(0, 0, 0, 0.3));\n",
              "      fill: #FFFFFF;\n",
              "    }\n",
              "  </style>\n",
              "\n",
              "      <script>\n",
              "        const buttonEl =\n",
              "          document.querySelector('#df-8783e448-f6e5-40b9-9f41-09faa280d9b5 button.colab-df-convert');\n",
              "        buttonEl.style.display =\n",
              "          google.colab.kernel.accessAllowed ? 'block' : 'none';\n",
              "\n",
              "        async function convertToInteractive(key) {\n",
              "          const element = document.querySelector('#df-8783e448-f6e5-40b9-9f41-09faa280d9b5');\n",
              "          const dataTable =\n",
              "            await google.colab.kernel.invokeFunction('convertToInteractive',\n",
              "                                                     [key], {});\n",
              "          if (!dataTable) return;\n",
              "\n",
              "          const docLinkHtml = 'Like what you see? Visit the ' +\n",
              "            '<a target=\"_blank\" href=https://colab.research.google.com/notebooks/data_table.ipynb>data table notebook</a>'\n",
              "            + ' to learn more about interactive tables.';\n",
              "          element.innerHTML = '';\n",
              "          dataTable['output_type'] = 'display_data';\n",
              "          await google.colab.output.renderOutput(dataTable, element);\n",
              "          const docLink = document.createElement('div');\n",
              "          docLink.innerHTML = docLinkHtml;\n",
              "          element.appendChild(docLink);\n",
              "        }\n",
              "      </script>\n",
              "    </div>\n",
              "  </div>\n",
              "  "
            ]
          },
          "metadata": {},
          "execution_count": 175
        }
      ]
    },
    {
      "cell_type": "code",
      "source": [
        "energy=pd.read_excel(r\"/content/energy.xlsx\")"
      ],
      "metadata": {
        "id": "5b4XbALMUN1q"
      },
      "execution_count": null,
      "outputs": []
    },
    {
      "cell_type": "code",
      "source": [
        "energy.columns"
      ],
      "metadata": {
        "colab": {
          "base_uri": "https://localhost:8080/"
        },
        "id": "X29oo0dReSTf",
        "outputId": "255a75b7-88e4-40c9-b4f1-d05c98779ef4"
      },
      "execution_count": null,
      "outputs": [
        {
          "output_type": "execute_result",
          "data": {
            "text/plain": [
              "Index(['Month', 'Day', 'Hour', 'Beam Irradiance (W/m^2)',\n",
              "       'Diffuse Irradiance (W/m^2)', 'Ambient Temperature (C)',\n",
              "       'Wind Speed (m/s)', 'Plane of Array Irradiance (W/m^2)',\n",
              "       'Cell Temperature (C)', 'DC Array Output (W)', 'AC System Output (W)'],\n",
              "      dtype='object')"
            ]
          },
          "metadata": {},
          "execution_count": 177
        }
      ]
    },
    {
      "cell_type": "code",
      "source": [
        "data=df.merge(energy[['Month', 'Day', 'Hour', 'AC System Output (W)']], how=\"left\", on=['Month', 'Day', 'Hour'])"
      ],
      "metadata": {
        "id": "yvPwTxqKXqi-"
      },
      "execution_count": null,
      "outputs": []
    },
    {
      "cell_type": "code",
      "source": [
        "data.sample(1000)"
      ],
      "metadata": {
        "colab": {
          "base_uri": "https://localhost:8080/",
          "height": 424
        },
        "id": "blVEN-TuecJq",
        "outputId": "e30fc768-dcdb-4d43-9b3b-2fd81fbf30fb"
      },
      "execution_count": null,
      "outputs": [
        {
          "output_type": "execute_result",
          "data": {
            "text/plain": [
              "     Gün çıxma Gün batma               Tarix Hava şəraiti Month Fəsil  \\\n",
              "4189  06:35:00  18:49:00 2021-06-24 13:00:00      günəşli     6   Yay   \n",
              "2785  07:11:00  18:13:00 2021-04-27 01:00:00      yağışlı     4   Yaz   \n",
              "2453  07:01:00  18:23:00 2021-04-13 05:00:00      günəşli     4   Yaz   \n",
              "3332  06:37:00  18:47:00 2021-05-19 20:00:00      günəşli     5   Yaz   \n",
              "4065  05:48:00  19:36:00 2021-06-19 09:00:00      günəşli     6   Yay   \n",
              "...        ...       ...                 ...          ...   ...   ...   \n",
              "4249  05:35:00  19:49:00 2021-06-27 01:00:00      günəşli     6   Yay   \n",
              "1831  05:59:00  19:25:00 2021-03-18 07:00:00       çiskin     3   Yaz   \n",
              "4007  06:46:00  18:38:00 2021-06-16 23:00:00      günəşli     6   Yay   \n",
              "2951  07:16:00  18:08:00 2021-05-03 23:00:00      günəşli     5   Yaz   \n",
              "791   06:13:00  19:11:00 2021-02-02 23:00:00      günəşli     2   Qış   \n",
              "\n",
              "      Panel sayı  Panel gücü Day Hour  Gün çıxa saat  Gün bata saat  \\\n",
              "4189          13          60  24   13              6             18   \n",
              "2785          27          40  27    1              7             18   \n",
              "2453          29         100  13    5              7             18   \n",
              "3332          19         200  19   20              6             18   \n",
              "4065          11          80  19    9              5             19   \n",
              "...          ...         ...  ..  ...            ...            ...   \n",
              "4249          14         100  27    1              5             19   \n",
              "1831          24          80  18    7              5             19   \n",
              "4007          19         200  16   23              6             18   \n",
              "2951          27          80   3   23              7             18   \n",
              "791           17         100   2   23              6             19   \n",
              "\n",
              "      AC System Output (W)  \n",
              "4189              2132.507  \n",
              "2785                 0.000  \n",
              "2453                 0.000  \n",
              "3332                 0.000  \n",
              "4065              2026.208  \n",
              "...                    ...  \n",
              "4249                 0.000  \n",
              "1831               525.292  \n",
              "4007                 0.000  \n",
              "2951                 0.000  \n",
              "791                  0.000  \n",
              "\n",
              "[1000 rows x 13 columns]"
            ],
            "text/html": [
              "\n",
              "  <div id=\"df-b0e8bea8-fa9d-464f-ae5c-45d9b79f0e98\">\n",
              "    <div class=\"colab-df-container\">\n",
              "      <div>\n",
              "<style scoped>\n",
              "    .dataframe tbody tr th:only-of-type {\n",
              "        vertical-align: middle;\n",
              "    }\n",
              "\n",
              "    .dataframe tbody tr th {\n",
              "        vertical-align: top;\n",
              "    }\n",
              "\n",
              "    .dataframe thead th {\n",
              "        text-align: right;\n",
              "    }\n",
              "</style>\n",
              "<table border=\"1\" class=\"dataframe\">\n",
              "  <thead>\n",
              "    <tr style=\"text-align: right;\">\n",
              "      <th></th>\n",
              "      <th>Gün çıxma</th>\n",
              "      <th>Gün batma</th>\n",
              "      <th>Tarix</th>\n",
              "      <th>Hava şəraiti</th>\n",
              "      <th>Month</th>\n",
              "      <th>Fəsil</th>\n",
              "      <th>Panel sayı</th>\n",
              "      <th>Panel gücü</th>\n",
              "      <th>Day</th>\n",
              "      <th>Hour</th>\n",
              "      <th>Gün çıxa saat</th>\n",
              "      <th>Gün bata saat</th>\n",
              "      <th>AC System Output (W)</th>\n",
              "    </tr>\n",
              "  </thead>\n",
              "  <tbody>\n",
              "    <tr>\n",
              "      <th>4189</th>\n",
              "      <td>06:35:00</td>\n",
              "      <td>18:49:00</td>\n",
              "      <td>2021-06-24 13:00:00</td>\n",
              "      <td>günəşli</td>\n",
              "      <td>6</td>\n",
              "      <td>Yay</td>\n",
              "      <td>13</td>\n",
              "      <td>60</td>\n",
              "      <td>24</td>\n",
              "      <td>13</td>\n",
              "      <td>6</td>\n",
              "      <td>18</td>\n",
              "      <td>2132.507</td>\n",
              "    </tr>\n",
              "    <tr>\n",
              "      <th>2785</th>\n",
              "      <td>07:11:00</td>\n",
              "      <td>18:13:00</td>\n",
              "      <td>2021-04-27 01:00:00</td>\n",
              "      <td>yağışlı</td>\n",
              "      <td>4</td>\n",
              "      <td>Yaz</td>\n",
              "      <td>27</td>\n",
              "      <td>40</td>\n",
              "      <td>27</td>\n",
              "      <td>1</td>\n",
              "      <td>7</td>\n",
              "      <td>18</td>\n",
              "      <td>0.000</td>\n",
              "    </tr>\n",
              "    <tr>\n",
              "      <th>2453</th>\n",
              "      <td>07:01:00</td>\n",
              "      <td>18:23:00</td>\n",
              "      <td>2021-04-13 05:00:00</td>\n",
              "      <td>günəşli</td>\n",
              "      <td>4</td>\n",
              "      <td>Yaz</td>\n",
              "      <td>29</td>\n",
              "      <td>100</td>\n",
              "      <td>13</td>\n",
              "      <td>5</td>\n",
              "      <td>7</td>\n",
              "      <td>18</td>\n",
              "      <td>0.000</td>\n",
              "    </tr>\n",
              "    <tr>\n",
              "      <th>3332</th>\n",
              "      <td>06:37:00</td>\n",
              "      <td>18:47:00</td>\n",
              "      <td>2021-05-19 20:00:00</td>\n",
              "      <td>günəşli</td>\n",
              "      <td>5</td>\n",
              "      <td>Yaz</td>\n",
              "      <td>19</td>\n",
              "      <td>200</td>\n",
              "      <td>19</td>\n",
              "      <td>20</td>\n",
              "      <td>6</td>\n",
              "      <td>18</td>\n",
              "      <td>0.000</td>\n",
              "    </tr>\n",
              "    <tr>\n",
              "      <th>4065</th>\n",
              "      <td>05:48:00</td>\n",
              "      <td>19:36:00</td>\n",
              "      <td>2021-06-19 09:00:00</td>\n",
              "      <td>günəşli</td>\n",
              "      <td>6</td>\n",
              "      <td>Yay</td>\n",
              "      <td>11</td>\n",
              "      <td>80</td>\n",
              "      <td>19</td>\n",
              "      <td>9</td>\n",
              "      <td>5</td>\n",
              "      <td>19</td>\n",
              "      <td>2026.208</td>\n",
              "    </tr>\n",
              "    <tr>\n",
              "      <th>...</th>\n",
              "      <td>...</td>\n",
              "      <td>...</td>\n",
              "      <td>...</td>\n",
              "      <td>...</td>\n",
              "      <td>...</td>\n",
              "      <td>...</td>\n",
              "      <td>...</td>\n",
              "      <td>...</td>\n",
              "      <td>...</td>\n",
              "      <td>...</td>\n",
              "      <td>...</td>\n",
              "      <td>...</td>\n",
              "      <td>...</td>\n",
              "    </tr>\n",
              "    <tr>\n",
              "      <th>4249</th>\n",
              "      <td>05:35:00</td>\n",
              "      <td>19:49:00</td>\n",
              "      <td>2021-06-27 01:00:00</td>\n",
              "      <td>günəşli</td>\n",
              "      <td>6</td>\n",
              "      <td>Yay</td>\n",
              "      <td>14</td>\n",
              "      <td>100</td>\n",
              "      <td>27</td>\n",
              "      <td>1</td>\n",
              "      <td>5</td>\n",
              "      <td>19</td>\n",
              "      <td>0.000</td>\n",
              "    </tr>\n",
              "    <tr>\n",
              "      <th>1831</th>\n",
              "      <td>05:59:00</td>\n",
              "      <td>19:25:00</td>\n",
              "      <td>2021-03-18 07:00:00</td>\n",
              "      <td>çiskin</td>\n",
              "      <td>3</td>\n",
              "      <td>Yaz</td>\n",
              "      <td>24</td>\n",
              "      <td>80</td>\n",
              "      <td>18</td>\n",
              "      <td>7</td>\n",
              "      <td>5</td>\n",
              "      <td>19</td>\n",
              "      <td>525.292</td>\n",
              "    </tr>\n",
              "    <tr>\n",
              "      <th>4007</th>\n",
              "      <td>06:46:00</td>\n",
              "      <td>18:38:00</td>\n",
              "      <td>2021-06-16 23:00:00</td>\n",
              "      <td>günəşli</td>\n",
              "      <td>6</td>\n",
              "      <td>Yay</td>\n",
              "      <td>19</td>\n",
              "      <td>200</td>\n",
              "      <td>16</td>\n",
              "      <td>23</td>\n",
              "      <td>6</td>\n",
              "      <td>18</td>\n",
              "      <td>0.000</td>\n",
              "    </tr>\n",
              "    <tr>\n",
              "      <th>2951</th>\n",
              "      <td>07:16:00</td>\n",
              "      <td>18:08:00</td>\n",
              "      <td>2021-05-03 23:00:00</td>\n",
              "      <td>günəşli</td>\n",
              "      <td>5</td>\n",
              "      <td>Yaz</td>\n",
              "      <td>27</td>\n",
              "      <td>80</td>\n",
              "      <td>3</td>\n",
              "      <td>23</td>\n",
              "      <td>7</td>\n",
              "      <td>18</td>\n",
              "      <td>0.000</td>\n",
              "    </tr>\n",
              "    <tr>\n",
              "      <th>791</th>\n",
              "      <td>06:13:00</td>\n",
              "      <td>19:11:00</td>\n",
              "      <td>2021-02-02 23:00:00</td>\n",
              "      <td>günəşli</td>\n",
              "      <td>2</td>\n",
              "      <td>Qış</td>\n",
              "      <td>17</td>\n",
              "      <td>100</td>\n",
              "      <td>2</td>\n",
              "      <td>23</td>\n",
              "      <td>6</td>\n",
              "      <td>19</td>\n",
              "      <td>0.000</td>\n",
              "    </tr>\n",
              "  </tbody>\n",
              "</table>\n",
              "<p>1000 rows × 13 columns</p>\n",
              "</div>\n",
              "      <button class=\"colab-df-convert\" onclick=\"convertToInteractive('df-b0e8bea8-fa9d-464f-ae5c-45d9b79f0e98')\"\n",
              "              title=\"Convert this dataframe to an interactive table.\"\n",
              "              style=\"display:none;\">\n",
              "        \n",
              "  <svg xmlns=\"http://www.w3.org/2000/svg\" height=\"24px\"viewBox=\"0 0 24 24\"\n",
              "       width=\"24px\">\n",
              "    <path d=\"M0 0h24v24H0V0z\" fill=\"none\"/>\n",
              "    <path d=\"M18.56 5.44l.94 2.06.94-2.06 2.06-.94-2.06-.94-.94-2.06-.94 2.06-2.06.94zm-11 1L8.5 8.5l.94-2.06 2.06-.94-2.06-.94L8.5 2.5l-.94 2.06-2.06.94zm10 10l.94 2.06.94-2.06 2.06-.94-2.06-.94-.94-2.06-.94 2.06-2.06.94z\"/><path d=\"M17.41 7.96l-1.37-1.37c-.4-.4-.92-.59-1.43-.59-.52 0-1.04.2-1.43.59L10.3 9.45l-7.72 7.72c-.78.78-.78 2.05 0 2.83L4 21.41c.39.39.9.59 1.41.59.51 0 1.02-.2 1.41-.59l7.78-7.78 2.81-2.81c.8-.78.8-2.07 0-2.86zM5.41 20L4 18.59l7.72-7.72 1.47 1.35L5.41 20z\"/>\n",
              "  </svg>\n",
              "      </button>\n",
              "      \n",
              "  <style>\n",
              "    .colab-df-container {\n",
              "      display:flex;\n",
              "      flex-wrap:wrap;\n",
              "      gap: 12px;\n",
              "    }\n",
              "\n",
              "    .colab-df-convert {\n",
              "      background-color: #E8F0FE;\n",
              "      border: none;\n",
              "      border-radius: 50%;\n",
              "      cursor: pointer;\n",
              "      display: none;\n",
              "      fill: #1967D2;\n",
              "      height: 32px;\n",
              "      padding: 0 0 0 0;\n",
              "      width: 32px;\n",
              "    }\n",
              "\n",
              "    .colab-df-convert:hover {\n",
              "      background-color: #E2EBFA;\n",
              "      box-shadow: 0px 1px 2px rgba(60, 64, 67, 0.3), 0px 1px 3px 1px rgba(60, 64, 67, 0.15);\n",
              "      fill: #174EA6;\n",
              "    }\n",
              "\n",
              "    [theme=dark] .colab-df-convert {\n",
              "      background-color: #3B4455;\n",
              "      fill: #D2E3FC;\n",
              "    }\n",
              "\n",
              "    [theme=dark] .colab-df-convert:hover {\n",
              "      background-color: #434B5C;\n",
              "      box-shadow: 0px 1px 3px 1px rgba(0, 0, 0, 0.15);\n",
              "      filter: drop-shadow(0px 1px 2px rgba(0, 0, 0, 0.3));\n",
              "      fill: #FFFFFF;\n",
              "    }\n",
              "  </style>\n",
              "\n",
              "      <script>\n",
              "        const buttonEl =\n",
              "          document.querySelector('#df-b0e8bea8-fa9d-464f-ae5c-45d9b79f0e98 button.colab-df-convert');\n",
              "        buttonEl.style.display =\n",
              "          google.colab.kernel.accessAllowed ? 'block' : 'none';\n",
              "\n",
              "        async function convertToInteractive(key) {\n",
              "          const element = document.querySelector('#df-b0e8bea8-fa9d-464f-ae5c-45d9b79f0e98');\n",
              "          const dataTable =\n",
              "            await google.colab.kernel.invokeFunction('convertToInteractive',\n",
              "                                                     [key], {});\n",
              "          if (!dataTable) return;\n",
              "\n",
              "          const docLinkHtml = 'Like what you see? Visit the ' +\n",
              "            '<a target=\"_blank\" href=https://colab.research.google.com/notebooks/data_table.ipynb>data table notebook</a>'\n",
              "            + ' to learn more about interactive tables.';\n",
              "          element.innerHTML = '';\n",
              "          dataTable['output_type'] = 'display_data';\n",
              "          await google.colab.output.renderOutput(dataTable, element);\n",
              "          const docLink = document.createElement('div');\n",
              "          docLink.innerHTML = docLinkHtml;\n",
              "          element.appendChild(docLink);\n",
              "        }\n",
              "      </script>\n",
              "    </div>\n",
              "  </div>\n",
              "  "
            ]
          },
          "metadata": {},
          "execution_count": 179
        }
      ]
    },
    {
      "cell_type": "code",
      "source": [
        "def energy(x,y,z):\n",
        "  z= (z/4000)+0.00001\n",
        "  n=np.log(x*y*z)\n",
        "  if n<0:\n",
        "    return 0 \n",
        "  return n"
      ],
      "metadata": {
        "id": "BXkvmEpmfVQS"
      },
      "execution_count": null,
      "outputs": []
    },
    {
      "cell_type": "code",
      "source": [
        "data[\"Günəş enerjisi\"]= [energy(x,y,z) for x,y,z in zip(data[\"Panel sayı\"], data[\"Panel gücü\"], data[\"AC System Output (W)\"])]"
      ],
      "metadata": {
        "id": "If0oERcwersh"
      },
      "execution_count": null,
      "outputs": []
    },
    {
      "cell_type": "code",
      "source": [
        "data[\"Günəş enerjisi\"].max()"
      ],
      "metadata": {
        "colab": {
          "base_uri": "https://localhost:8080/"
        },
        "id": "gGtY2avVNRt5",
        "outputId": "ed50bd99-dd84-43ed-9614-b86e1fcaaca9"
      },
      "execution_count": null,
      "outputs": [
        {
          "output_type": "execute_result",
          "data": {
            "text/plain": [
              "8.783489116765878"
            ]
          },
          "metadata": {},
          "execution_count": 183
        }
      ]
    },
    {
      "cell_type": "code",
      "source": [
        "data.rename(columns={\"Day\":\"Tarix_gün\", \"Hour\":\"Tarix_saat\", \"Month\":\"Tarix_ay\"}, inplace=True)"
      ],
      "metadata": {
        "id": "xCkL5mWXfiRe"
      },
      "execution_count": null,
      "outputs": []
    },
    {
      "cell_type": "code",
      "source": [
        "data.head()"
      ],
      "metadata": {
        "colab": {
          "base_uri": "https://localhost:8080/",
          "height": 354
        },
        "id": "Z83ISd5GhRgQ",
        "outputId": "42a67a8f-0f17-4018-b7cc-e5c301838f70"
      },
      "execution_count": null,
      "outputs": [
        {
          "output_type": "execute_result",
          "data": {
            "text/plain": [
              "  Gün çıxma Gün batma               Tarix Hava şəraiti Tarix_ay Fəsil  \\\n",
              "0  08:00:00  17:24:00 2021-01-01 00:00:00      günəşli        1   Qış   \n",
              "1  07:59:00  17:25:00 2021-01-01 01:00:00      günəşli        1   Qış   \n",
              "2  07:58:00  17:26:00 2021-01-01 02:00:00      günəşli        1   Qış   \n",
              "3  07:57:00  17:27:00 2021-01-01 03:00:00       çiskin        1   Qış   \n",
              "4  07:56:00  17:28:00 2021-01-01 04:00:00      günəşli        1   Qış   \n",
              "\n",
              "   Panel sayı  Panel gücü Tarix_gün Tarix_saat  Gün çıxa saat  Gün bata saat  \\\n",
              "0          25          40         1          0              8             17   \n",
              "1          11         100         1          1              7             17   \n",
              "2          24         100         1          2              7             17   \n",
              "3          25          40         1          3              7             17   \n",
              "4          26         400         1          4              7             17   \n",
              "\n",
              "   AC System Output (W)  Günəş enerjisi  \n",
              "0                   0.0             0.0  \n",
              "1                   0.0             0.0  \n",
              "2                   0.0             0.0  \n",
              "3                   0.0             0.0  \n",
              "4                   0.0             0.0  "
            ],
            "text/html": [
              "\n",
              "  <div id=\"df-2c42cb9c-9876-48d1-94d3-94cf3523de04\">\n",
              "    <div class=\"colab-df-container\">\n",
              "      <div>\n",
              "<style scoped>\n",
              "    .dataframe tbody tr th:only-of-type {\n",
              "        vertical-align: middle;\n",
              "    }\n",
              "\n",
              "    .dataframe tbody tr th {\n",
              "        vertical-align: top;\n",
              "    }\n",
              "\n",
              "    .dataframe thead th {\n",
              "        text-align: right;\n",
              "    }\n",
              "</style>\n",
              "<table border=\"1\" class=\"dataframe\">\n",
              "  <thead>\n",
              "    <tr style=\"text-align: right;\">\n",
              "      <th></th>\n",
              "      <th>Gün çıxma</th>\n",
              "      <th>Gün batma</th>\n",
              "      <th>Tarix</th>\n",
              "      <th>Hava şəraiti</th>\n",
              "      <th>Tarix_ay</th>\n",
              "      <th>Fəsil</th>\n",
              "      <th>Panel sayı</th>\n",
              "      <th>Panel gücü</th>\n",
              "      <th>Tarix_gün</th>\n",
              "      <th>Tarix_saat</th>\n",
              "      <th>Gün çıxa saat</th>\n",
              "      <th>Gün bata saat</th>\n",
              "      <th>AC System Output (W)</th>\n",
              "      <th>Günəş enerjisi</th>\n",
              "    </tr>\n",
              "  </thead>\n",
              "  <tbody>\n",
              "    <tr>\n",
              "      <th>0</th>\n",
              "      <td>08:00:00</td>\n",
              "      <td>17:24:00</td>\n",
              "      <td>2021-01-01 00:00:00</td>\n",
              "      <td>günəşli</td>\n",
              "      <td>1</td>\n",
              "      <td>Qış</td>\n",
              "      <td>25</td>\n",
              "      <td>40</td>\n",
              "      <td>1</td>\n",
              "      <td>0</td>\n",
              "      <td>8</td>\n",
              "      <td>17</td>\n",
              "      <td>0.0</td>\n",
              "      <td>0.0</td>\n",
              "    </tr>\n",
              "    <tr>\n",
              "      <th>1</th>\n",
              "      <td>07:59:00</td>\n",
              "      <td>17:25:00</td>\n",
              "      <td>2021-01-01 01:00:00</td>\n",
              "      <td>günəşli</td>\n",
              "      <td>1</td>\n",
              "      <td>Qış</td>\n",
              "      <td>11</td>\n",
              "      <td>100</td>\n",
              "      <td>1</td>\n",
              "      <td>1</td>\n",
              "      <td>7</td>\n",
              "      <td>17</td>\n",
              "      <td>0.0</td>\n",
              "      <td>0.0</td>\n",
              "    </tr>\n",
              "    <tr>\n",
              "      <th>2</th>\n",
              "      <td>07:58:00</td>\n",
              "      <td>17:26:00</td>\n",
              "      <td>2021-01-01 02:00:00</td>\n",
              "      <td>günəşli</td>\n",
              "      <td>1</td>\n",
              "      <td>Qış</td>\n",
              "      <td>24</td>\n",
              "      <td>100</td>\n",
              "      <td>1</td>\n",
              "      <td>2</td>\n",
              "      <td>7</td>\n",
              "      <td>17</td>\n",
              "      <td>0.0</td>\n",
              "      <td>0.0</td>\n",
              "    </tr>\n",
              "    <tr>\n",
              "      <th>3</th>\n",
              "      <td>07:57:00</td>\n",
              "      <td>17:27:00</td>\n",
              "      <td>2021-01-01 03:00:00</td>\n",
              "      <td>çiskin</td>\n",
              "      <td>1</td>\n",
              "      <td>Qış</td>\n",
              "      <td>25</td>\n",
              "      <td>40</td>\n",
              "      <td>1</td>\n",
              "      <td>3</td>\n",
              "      <td>7</td>\n",
              "      <td>17</td>\n",
              "      <td>0.0</td>\n",
              "      <td>0.0</td>\n",
              "    </tr>\n",
              "    <tr>\n",
              "      <th>4</th>\n",
              "      <td>07:56:00</td>\n",
              "      <td>17:28:00</td>\n",
              "      <td>2021-01-01 04:00:00</td>\n",
              "      <td>günəşli</td>\n",
              "      <td>1</td>\n",
              "      <td>Qış</td>\n",
              "      <td>26</td>\n",
              "      <td>400</td>\n",
              "      <td>1</td>\n",
              "      <td>4</td>\n",
              "      <td>7</td>\n",
              "      <td>17</td>\n",
              "      <td>0.0</td>\n",
              "      <td>0.0</td>\n",
              "    </tr>\n",
              "  </tbody>\n",
              "</table>\n",
              "</div>\n",
              "      <button class=\"colab-df-convert\" onclick=\"convertToInteractive('df-2c42cb9c-9876-48d1-94d3-94cf3523de04')\"\n",
              "              title=\"Convert this dataframe to an interactive table.\"\n",
              "              style=\"display:none;\">\n",
              "        \n",
              "  <svg xmlns=\"http://www.w3.org/2000/svg\" height=\"24px\"viewBox=\"0 0 24 24\"\n",
              "       width=\"24px\">\n",
              "    <path d=\"M0 0h24v24H0V0z\" fill=\"none\"/>\n",
              "    <path d=\"M18.56 5.44l.94 2.06.94-2.06 2.06-.94-2.06-.94-.94-2.06-.94 2.06-2.06.94zm-11 1L8.5 8.5l.94-2.06 2.06-.94-2.06-.94L8.5 2.5l-.94 2.06-2.06.94zm10 10l.94 2.06.94-2.06 2.06-.94-2.06-.94-.94-2.06-.94 2.06-2.06.94z\"/><path d=\"M17.41 7.96l-1.37-1.37c-.4-.4-.92-.59-1.43-.59-.52 0-1.04.2-1.43.59L10.3 9.45l-7.72 7.72c-.78.78-.78 2.05 0 2.83L4 21.41c.39.39.9.59 1.41.59.51 0 1.02-.2 1.41-.59l7.78-7.78 2.81-2.81c.8-.78.8-2.07 0-2.86zM5.41 20L4 18.59l7.72-7.72 1.47 1.35L5.41 20z\"/>\n",
              "  </svg>\n",
              "      </button>\n",
              "      \n",
              "  <style>\n",
              "    .colab-df-container {\n",
              "      display:flex;\n",
              "      flex-wrap:wrap;\n",
              "      gap: 12px;\n",
              "    }\n",
              "\n",
              "    .colab-df-convert {\n",
              "      background-color: #E8F0FE;\n",
              "      border: none;\n",
              "      border-radius: 50%;\n",
              "      cursor: pointer;\n",
              "      display: none;\n",
              "      fill: #1967D2;\n",
              "      height: 32px;\n",
              "      padding: 0 0 0 0;\n",
              "      width: 32px;\n",
              "    }\n",
              "\n",
              "    .colab-df-convert:hover {\n",
              "      background-color: #E2EBFA;\n",
              "      box-shadow: 0px 1px 2px rgba(60, 64, 67, 0.3), 0px 1px 3px 1px rgba(60, 64, 67, 0.15);\n",
              "      fill: #174EA6;\n",
              "    }\n",
              "\n",
              "    [theme=dark] .colab-df-convert {\n",
              "      background-color: #3B4455;\n",
              "      fill: #D2E3FC;\n",
              "    }\n",
              "\n",
              "    [theme=dark] .colab-df-convert:hover {\n",
              "      background-color: #434B5C;\n",
              "      box-shadow: 0px 1px 3px 1px rgba(0, 0, 0, 0.15);\n",
              "      filter: drop-shadow(0px 1px 2px rgba(0, 0, 0, 0.3));\n",
              "      fill: #FFFFFF;\n",
              "    }\n",
              "  </style>\n",
              "\n",
              "      <script>\n",
              "        const buttonEl =\n",
              "          document.querySelector('#df-2c42cb9c-9876-48d1-94d3-94cf3523de04 button.colab-df-convert');\n",
              "        buttonEl.style.display =\n",
              "          google.colab.kernel.accessAllowed ? 'block' : 'none';\n",
              "\n",
              "        async function convertToInteractive(key) {\n",
              "          const element = document.querySelector('#df-2c42cb9c-9876-48d1-94d3-94cf3523de04');\n",
              "          const dataTable =\n",
              "            await google.colab.kernel.invokeFunction('convertToInteractive',\n",
              "                                                     [key], {});\n",
              "          if (!dataTable) return;\n",
              "\n",
              "          const docLinkHtml = 'Like what you see? Visit the ' +\n",
              "            '<a target=\"_blank\" href=https://colab.research.google.com/notebooks/data_table.ipynb>data table notebook</a>'\n",
              "            + ' to learn more about interactive tables.';\n",
              "          element.innerHTML = '';\n",
              "          dataTable['output_type'] = 'display_data';\n",
              "          await google.colab.output.renderOutput(dataTable, element);\n",
              "          const docLink = document.createElement('div');\n",
              "          docLink.innerHTML = docLinkHtml;\n",
              "          element.appendChild(docLink);\n",
              "        }\n",
              "      </script>\n",
              "    </div>\n",
              "  </div>\n",
              "  "
            ]
          },
          "metadata": {},
          "execution_count": 187
        }
      ]
    },
    {
      "cell_type": "code",
      "source": [
        "from sklearn import preprocessing\n",
        "le = preprocessing.LabelEncoder()\n",
        "le.fit(data[\"Hava şəraiti\"])\n",
        "\n",
        "data[\"Hava şəraiti\"]=le.transform(data[\"Hava şəraiti\"])"
      ],
      "metadata": {
        "id": "an2vF6X4jPiw"
      },
      "execution_count": null,
      "outputs": []
    },
    {
      "cell_type": "code",
      "source": [
        "from sklearn import preprocessing\n",
        "le = preprocessing.LabelEncoder()\n",
        "le.fit(data[\"Fəsil\"])\n",
        "\n",
        "data[\"Fəsil\"]=le.transform(data[\"Fəsil\"])"
      ],
      "metadata": {
        "id": "OOTsFjTyjvi4"
      },
      "execution_count": null,
      "outputs": []
    },
    {
      "cell_type": "code",
      "source": [
        "data_final=data[['Hava şəraiti', 'Tarix_ay', 'Fəsil',\n",
        "       'Panel sayı', 'Panel gücü', 'Tarix_gün', 'Tarix_saat', 'Gün çıxa saat',\n",
        "       'Gün bata saat', 'Günəş enerjisi']]"
      ],
      "metadata": {
        "id": "kC6O_Mn8hKS3"
      },
      "execution_count": null,
      "outputs": []
    },
    {
      "cell_type": "code",
      "source": [
        "data_final.head()"
      ],
      "metadata": {
        "colab": {
          "base_uri": "https://localhost:8080/",
          "height": 206
        },
        "id": "LHSx5YEyh0gp",
        "outputId": "c6fefaca-c98d-43a3-9fbf-6124f70ab3dc"
      },
      "execution_count": null,
      "outputs": [
        {
          "output_type": "execute_result",
          "data": {
            "text/plain": [
              "   Hava şəraiti Tarix_ay  Fəsil  Panel sayı  Panel gücü Tarix_gün Tarix_saat  \\\n",
              "0             1        1      0          25          40         1          0   \n",
              "1             1        1      0          11         100         1          1   \n",
              "2             1        1      0          24         100         1          2   \n",
              "3             4        1      0          25          40         1          3   \n",
              "4             1        1      0          26         400         1          4   \n",
              "\n",
              "   Gün çıxa saat  Gün bata saat  Günəş enerjisi  \n",
              "0              8             17             0.0  \n",
              "1              7             17             0.0  \n",
              "2              7             17             0.0  \n",
              "3              7             17             0.0  \n",
              "4              7             17             0.0  "
            ],
            "text/html": [
              "\n",
              "  <div id=\"df-f66cf0c8-d855-49f0-ac95-7f99dc30f1b2\">\n",
              "    <div class=\"colab-df-container\">\n",
              "      <div>\n",
              "<style scoped>\n",
              "    .dataframe tbody tr th:only-of-type {\n",
              "        vertical-align: middle;\n",
              "    }\n",
              "\n",
              "    .dataframe tbody tr th {\n",
              "        vertical-align: top;\n",
              "    }\n",
              "\n",
              "    .dataframe thead th {\n",
              "        text-align: right;\n",
              "    }\n",
              "</style>\n",
              "<table border=\"1\" class=\"dataframe\">\n",
              "  <thead>\n",
              "    <tr style=\"text-align: right;\">\n",
              "      <th></th>\n",
              "      <th>Hava şəraiti</th>\n",
              "      <th>Tarix_ay</th>\n",
              "      <th>Fəsil</th>\n",
              "      <th>Panel sayı</th>\n",
              "      <th>Panel gücü</th>\n",
              "      <th>Tarix_gün</th>\n",
              "      <th>Tarix_saat</th>\n",
              "      <th>Gün çıxa saat</th>\n",
              "      <th>Gün bata saat</th>\n",
              "      <th>Günəş enerjisi</th>\n",
              "    </tr>\n",
              "  </thead>\n",
              "  <tbody>\n",
              "    <tr>\n",
              "      <th>0</th>\n",
              "      <td>1</td>\n",
              "      <td>1</td>\n",
              "      <td>0</td>\n",
              "      <td>25</td>\n",
              "      <td>40</td>\n",
              "      <td>1</td>\n",
              "      <td>0</td>\n",
              "      <td>8</td>\n",
              "      <td>17</td>\n",
              "      <td>0.0</td>\n",
              "    </tr>\n",
              "    <tr>\n",
              "      <th>1</th>\n",
              "      <td>1</td>\n",
              "      <td>1</td>\n",
              "      <td>0</td>\n",
              "      <td>11</td>\n",
              "      <td>100</td>\n",
              "      <td>1</td>\n",
              "      <td>1</td>\n",
              "      <td>7</td>\n",
              "      <td>17</td>\n",
              "      <td>0.0</td>\n",
              "    </tr>\n",
              "    <tr>\n",
              "      <th>2</th>\n",
              "      <td>1</td>\n",
              "      <td>1</td>\n",
              "      <td>0</td>\n",
              "      <td>24</td>\n",
              "      <td>100</td>\n",
              "      <td>1</td>\n",
              "      <td>2</td>\n",
              "      <td>7</td>\n",
              "      <td>17</td>\n",
              "      <td>0.0</td>\n",
              "    </tr>\n",
              "    <tr>\n",
              "      <th>3</th>\n",
              "      <td>4</td>\n",
              "      <td>1</td>\n",
              "      <td>0</td>\n",
              "      <td>25</td>\n",
              "      <td>40</td>\n",
              "      <td>1</td>\n",
              "      <td>3</td>\n",
              "      <td>7</td>\n",
              "      <td>17</td>\n",
              "      <td>0.0</td>\n",
              "    </tr>\n",
              "    <tr>\n",
              "      <th>4</th>\n",
              "      <td>1</td>\n",
              "      <td>1</td>\n",
              "      <td>0</td>\n",
              "      <td>26</td>\n",
              "      <td>400</td>\n",
              "      <td>1</td>\n",
              "      <td>4</td>\n",
              "      <td>7</td>\n",
              "      <td>17</td>\n",
              "      <td>0.0</td>\n",
              "    </tr>\n",
              "  </tbody>\n",
              "</table>\n",
              "</div>\n",
              "      <button class=\"colab-df-convert\" onclick=\"convertToInteractive('df-f66cf0c8-d855-49f0-ac95-7f99dc30f1b2')\"\n",
              "              title=\"Convert this dataframe to an interactive table.\"\n",
              "              style=\"display:none;\">\n",
              "        \n",
              "  <svg xmlns=\"http://www.w3.org/2000/svg\" height=\"24px\"viewBox=\"0 0 24 24\"\n",
              "       width=\"24px\">\n",
              "    <path d=\"M0 0h24v24H0V0z\" fill=\"none\"/>\n",
              "    <path d=\"M18.56 5.44l.94 2.06.94-2.06 2.06-.94-2.06-.94-.94-2.06-.94 2.06-2.06.94zm-11 1L8.5 8.5l.94-2.06 2.06-.94-2.06-.94L8.5 2.5l-.94 2.06-2.06.94zm10 10l.94 2.06.94-2.06 2.06-.94-2.06-.94-.94-2.06-.94 2.06-2.06.94z\"/><path d=\"M17.41 7.96l-1.37-1.37c-.4-.4-.92-.59-1.43-.59-.52 0-1.04.2-1.43.59L10.3 9.45l-7.72 7.72c-.78.78-.78 2.05 0 2.83L4 21.41c.39.39.9.59 1.41.59.51 0 1.02-.2 1.41-.59l7.78-7.78 2.81-2.81c.8-.78.8-2.07 0-2.86zM5.41 20L4 18.59l7.72-7.72 1.47 1.35L5.41 20z\"/>\n",
              "  </svg>\n",
              "      </button>\n",
              "      \n",
              "  <style>\n",
              "    .colab-df-container {\n",
              "      display:flex;\n",
              "      flex-wrap:wrap;\n",
              "      gap: 12px;\n",
              "    }\n",
              "\n",
              "    .colab-df-convert {\n",
              "      background-color: #E8F0FE;\n",
              "      border: none;\n",
              "      border-radius: 50%;\n",
              "      cursor: pointer;\n",
              "      display: none;\n",
              "      fill: #1967D2;\n",
              "      height: 32px;\n",
              "      padding: 0 0 0 0;\n",
              "      width: 32px;\n",
              "    }\n",
              "\n",
              "    .colab-df-convert:hover {\n",
              "      background-color: #E2EBFA;\n",
              "      box-shadow: 0px 1px 2px rgba(60, 64, 67, 0.3), 0px 1px 3px 1px rgba(60, 64, 67, 0.15);\n",
              "      fill: #174EA6;\n",
              "    }\n",
              "\n",
              "    [theme=dark] .colab-df-convert {\n",
              "      background-color: #3B4455;\n",
              "      fill: #D2E3FC;\n",
              "    }\n",
              "\n",
              "    [theme=dark] .colab-df-convert:hover {\n",
              "      background-color: #434B5C;\n",
              "      box-shadow: 0px 1px 3px 1px rgba(0, 0, 0, 0.15);\n",
              "      filter: drop-shadow(0px 1px 2px rgba(0, 0, 0, 0.3));\n",
              "      fill: #FFFFFF;\n",
              "    }\n",
              "  </style>\n",
              "\n",
              "      <script>\n",
              "        const buttonEl =\n",
              "          document.querySelector('#df-f66cf0c8-d855-49f0-ac95-7f99dc30f1b2 button.colab-df-convert');\n",
              "        buttonEl.style.display =\n",
              "          google.colab.kernel.accessAllowed ? 'block' : 'none';\n",
              "\n",
              "        async function convertToInteractive(key) {\n",
              "          const element = document.querySelector('#df-f66cf0c8-d855-49f0-ac95-7f99dc30f1b2');\n",
              "          const dataTable =\n",
              "            await google.colab.kernel.invokeFunction('convertToInteractive',\n",
              "                                                     [key], {});\n",
              "          if (!dataTable) return;\n",
              "\n",
              "          const docLinkHtml = 'Like what you see? Visit the ' +\n",
              "            '<a target=\"_blank\" href=https://colab.research.google.com/notebooks/data_table.ipynb>data table notebook</a>'\n",
              "            + ' to learn more about interactive tables.';\n",
              "          element.innerHTML = '';\n",
              "          dataTable['output_type'] = 'display_data';\n",
              "          await google.colab.output.renderOutput(dataTable, element);\n",
              "          const docLink = document.createElement('div');\n",
              "          docLink.innerHTML = docLinkHtml;\n",
              "          element.appendChild(docLink);\n",
              "        }\n",
              "      </script>\n",
              "    </div>\n",
              "  </div>\n",
              "  "
            ]
          },
          "metadata": {},
          "execution_count": 191
        }
      ]
    },
    {
      "cell_type": "code",
      "source": [
        "# Loading Libraries\n",
        "\n",
        "import pandas as pd\n",
        "\n",
        "import numpy as np\n",
        "\n",
        "from sklearn.preprocessing import OrdinalEncoder\n",
        "\n",
        "from sklearn.model_selection import train_test_split\n",
        "\n",
        "from sklearn.metrics import mean_squared_log_error,mean_squared_error,mean_absolute_error,mean_absolute_percentage_error\n",
        "\n",
        "import datetime\n",
        "\n",
        "from sklearn.ensemble import RandomForestRegressor\n",
        "\n",
        "from sklearn.linear_model import LinearRegression\n",
        "\n",
        "from xgboost import XGBRegressor\n",
        "\n",
        "from sklearn.preprocessing import StandardScaler\n",
        "\n",
        "import matplotlib.pyplot as plt\n",
        "\n",
        "import seaborn as sns\n",
        "\n",
        "from keras.models import Sequential\n",
        "\n",
        "from keras.layers import Dense\n",
        "\n",
        "from prettytable import PrettyTable"
      ],
      "metadata": {
        "id": "ruHOyyWh11Xx"
      },
      "execution_count": null,
      "outputs": []
    },
    {
      "cell_type": "code",
      "source": [
        "data_final.head()"
      ],
      "metadata": {
        "colab": {
          "base_uri": "https://localhost:8080/",
          "height": 206
        },
        "id": "73zCctil2LEo",
        "outputId": "5243ed27-7812-4de6-b2d6-d641a3e97e36"
      },
      "execution_count": null,
      "outputs": [
        {
          "output_type": "execute_result",
          "data": {
            "text/plain": [
              "   Hava şəraiti Tarix_ay  Fəsil  Panel sayı  Panel gücü Tarix_gün Tarix_saat  \\\n",
              "0             1        1      0          25          40         1          0   \n",
              "1             1        1      0          11         100         1          1   \n",
              "2             1        1      0          24         100         1          2   \n",
              "3             4        1      0          25          40         1          3   \n",
              "4             1        1      0          26         400         1          4   \n",
              "\n",
              "   Gün çıxa saat  Gün bata saat  Günəş enerjisi  \n",
              "0              8             17             0.0  \n",
              "1              7             17             0.0  \n",
              "2              7             17             0.0  \n",
              "3              7             17             0.0  \n",
              "4              7             17             0.0  "
            ],
            "text/html": [
              "\n",
              "  <div id=\"df-a75918a8-96ac-4aaf-bbbb-0ec0f1aee3e8\">\n",
              "    <div class=\"colab-df-container\">\n",
              "      <div>\n",
              "<style scoped>\n",
              "    .dataframe tbody tr th:only-of-type {\n",
              "        vertical-align: middle;\n",
              "    }\n",
              "\n",
              "    .dataframe tbody tr th {\n",
              "        vertical-align: top;\n",
              "    }\n",
              "\n",
              "    .dataframe thead th {\n",
              "        text-align: right;\n",
              "    }\n",
              "</style>\n",
              "<table border=\"1\" class=\"dataframe\">\n",
              "  <thead>\n",
              "    <tr style=\"text-align: right;\">\n",
              "      <th></th>\n",
              "      <th>Hava şəraiti</th>\n",
              "      <th>Tarix_ay</th>\n",
              "      <th>Fəsil</th>\n",
              "      <th>Panel sayı</th>\n",
              "      <th>Panel gücü</th>\n",
              "      <th>Tarix_gün</th>\n",
              "      <th>Tarix_saat</th>\n",
              "      <th>Gün çıxa saat</th>\n",
              "      <th>Gün bata saat</th>\n",
              "      <th>Günəş enerjisi</th>\n",
              "    </tr>\n",
              "  </thead>\n",
              "  <tbody>\n",
              "    <tr>\n",
              "      <th>0</th>\n",
              "      <td>1</td>\n",
              "      <td>1</td>\n",
              "      <td>0</td>\n",
              "      <td>25</td>\n",
              "      <td>40</td>\n",
              "      <td>1</td>\n",
              "      <td>0</td>\n",
              "      <td>8</td>\n",
              "      <td>17</td>\n",
              "      <td>0.0</td>\n",
              "    </tr>\n",
              "    <tr>\n",
              "      <th>1</th>\n",
              "      <td>1</td>\n",
              "      <td>1</td>\n",
              "      <td>0</td>\n",
              "      <td>11</td>\n",
              "      <td>100</td>\n",
              "      <td>1</td>\n",
              "      <td>1</td>\n",
              "      <td>7</td>\n",
              "      <td>17</td>\n",
              "      <td>0.0</td>\n",
              "    </tr>\n",
              "    <tr>\n",
              "      <th>2</th>\n",
              "      <td>1</td>\n",
              "      <td>1</td>\n",
              "      <td>0</td>\n",
              "      <td>24</td>\n",
              "      <td>100</td>\n",
              "      <td>1</td>\n",
              "      <td>2</td>\n",
              "      <td>7</td>\n",
              "      <td>17</td>\n",
              "      <td>0.0</td>\n",
              "    </tr>\n",
              "    <tr>\n",
              "      <th>3</th>\n",
              "      <td>4</td>\n",
              "      <td>1</td>\n",
              "      <td>0</td>\n",
              "      <td>25</td>\n",
              "      <td>40</td>\n",
              "      <td>1</td>\n",
              "      <td>3</td>\n",
              "      <td>7</td>\n",
              "      <td>17</td>\n",
              "      <td>0.0</td>\n",
              "    </tr>\n",
              "    <tr>\n",
              "      <th>4</th>\n",
              "      <td>1</td>\n",
              "      <td>1</td>\n",
              "      <td>0</td>\n",
              "      <td>26</td>\n",
              "      <td>400</td>\n",
              "      <td>1</td>\n",
              "      <td>4</td>\n",
              "      <td>7</td>\n",
              "      <td>17</td>\n",
              "      <td>0.0</td>\n",
              "    </tr>\n",
              "  </tbody>\n",
              "</table>\n",
              "</div>\n",
              "      <button class=\"colab-df-convert\" onclick=\"convertToInteractive('df-a75918a8-96ac-4aaf-bbbb-0ec0f1aee3e8')\"\n",
              "              title=\"Convert this dataframe to an interactive table.\"\n",
              "              style=\"display:none;\">\n",
              "        \n",
              "  <svg xmlns=\"http://www.w3.org/2000/svg\" height=\"24px\"viewBox=\"0 0 24 24\"\n",
              "       width=\"24px\">\n",
              "    <path d=\"M0 0h24v24H0V0z\" fill=\"none\"/>\n",
              "    <path d=\"M18.56 5.44l.94 2.06.94-2.06 2.06-.94-2.06-.94-.94-2.06-.94 2.06-2.06.94zm-11 1L8.5 8.5l.94-2.06 2.06-.94-2.06-.94L8.5 2.5l-.94 2.06-2.06.94zm10 10l.94 2.06.94-2.06 2.06-.94-2.06-.94-.94-2.06-.94 2.06-2.06.94z\"/><path d=\"M17.41 7.96l-1.37-1.37c-.4-.4-.92-.59-1.43-.59-.52 0-1.04.2-1.43.59L10.3 9.45l-7.72 7.72c-.78.78-.78 2.05 0 2.83L4 21.41c.39.39.9.59 1.41.59.51 0 1.02-.2 1.41-.59l7.78-7.78 2.81-2.81c.8-.78.8-2.07 0-2.86zM5.41 20L4 18.59l7.72-7.72 1.47 1.35L5.41 20z\"/>\n",
              "  </svg>\n",
              "      </button>\n",
              "      \n",
              "  <style>\n",
              "    .colab-df-container {\n",
              "      display:flex;\n",
              "      flex-wrap:wrap;\n",
              "      gap: 12px;\n",
              "    }\n",
              "\n",
              "    .colab-df-convert {\n",
              "      background-color: #E8F0FE;\n",
              "      border: none;\n",
              "      border-radius: 50%;\n",
              "      cursor: pointer;\n",
              "      display: none;\n",
              "      fill: #1967D2;\n",
              "      height: 32px;\n",
              "      padding: 0 0 0 0;\n",
              "      width: 32px;\n",
              "    }\n",
              "\n",
              "    .colab-df-convert:hover {\n",
              "      background-color: #E2EBFA;\n",
              "      box-shadow: 0px 1px 2px rgba(60, 64, 67, 0.3), 0px 1px 3px 1px rgba(60, 64, 67, 0.15);\n",
              "      fill: #174EA6;\n",
              "    }\n",
              "\n",
              "    [theme=dark] .colab-df-convert {\n",
              "      background-color: #3B4455;\n",
              "      fill: #D2E3FC;\n",
              "    }\n",
              "\n",
              "    [theme=dark] .colab-df-convert:hover {\n",
              "      background-color: #434B5C;\n",
              "      box-shadow: 0px 1px 3px 1px rgba(0, 0, 0, 0.15);\n",
              "      filter: drop-shadow(0px 1px 2px rgba(0, 0, 0, 0.3));\n",
              "      fill: #FFFFFF;\n",
              "    }\n",
              "  </style>\n",
              "\n",
              "      <script>\n",
              "        const buttonEl =\n",
              "          document.querySelector('#df-a75918a8-96ac-4aaf-bbbb-0ec0f1aee3e8 button.colab-df-convert');\n",
              "        buttonEl.style.display =\n",
              "          google.colab.kernel.accessAllowed ? 'block' : 'none';\n",
              "\n",
              "        async function convertToInteractive(key) {\n",
              "          const element = document.querySelector('#df-a75918a8-96ac-4aaf-bbbb-0ec0f1aee3e8');\n",
              "          const dataTable =\n",
              "            await google.colab.kernel.invokeFunction('convertToInteractive',\n",
              "                                                     [key], {});\n",
              "          if (!dataTable) return;\n",
              "\n",
              "          const docLinkHtml = 'Like what you see? Visit the ' +\n",
              "            '<a target=\"_blank\" href=https://colab.research.google.com/notebooks/data_table.ipynb>data table notebook</a>'\n",
              "            + ' to learn more about interactive tables.';\n",
              "          element.innerHTML = '';\n",
              "          dataTable['output_type'] = 'display_data';\n",
              "          await google.colab.output.renderOutput(dataTable, element);\n",
              "          const docLink = document.createElement('div');\n",
              "          docLink.innerHTML = docLinkHtml;\n",
              "          element.appendChild(docLink);\n",
              "        }\n",
              "      </script>\n",
              "    </div>\n",
              "  </div>\n",
              "  "
            ]
          },
          "metadata": {},
          "execution_count": 193
        }
      ]
    },
    {
      "cell_type": "code",
      "source": [
        "df=data_final.copy()\n",
        "X=data_final.drop([\"Günəş enerjisi\"],axis=1)\n",
        "\n",
        "y=data_final['Günəş enerjisi']\n",
        "\n",
        "# Data Splitting and Scaling\n",
        "\n",
        "X_train,X_test,y_train,y_test=train_test_split(X,y,test_size=0.2,random_state=25)\n",
        "\n",
        "scaler=StandardScaler()\n",
        "\n",
        "X_train_scaled=scaler.fit_transform(X_train)\n",
        "\n",
        "X_test_scaled=scaler.transform(X_test)\n",
        "\n",
        "# Model Building\n",
        "\n",
        "def train_ml_model(x,y,model_type):\n",
        "\n",
        "    if model_type=='lr':\n",
        "\n",
        "        model=LinearRegression()\n",
        "\n",
        "    elif model_type=='xgb':\n",
        "\n",
        "        model=XGBRegressor()\n",
        "\n",
        "    elif model_type=='rf':\n",
        "\n",
        "        model=RandomForestRegressor()\n",
        "\n",
        "    model.fit(x,y)#np.log(y))\n",
        "\n",
        "    return model\n",
        "\n",
        "def model_evaluate(model,x,y):\n",
        "\n",
        "    predictions=model.predict(x)\n",
        "\n",
        "    #predictions=np.exp(predictions)\n",
        "\n",
        "    mse=mean_squared_error(y,predictions)\n",
        "\n",
        "    mae=mean_absolute_error(y,predictions)\n",
        "\n",
        "    mape=mean_absolute_percentage_error(y,predictions)\n",
        "\n",
        "    msle=mean_squared_log_error(y,predictions)\n",
        "\n",
        "    mse=round(mse,2)\n",
        "\n",
        "    mae=round(mae,2)\n",
        "\n",
        "    mape=round(mape,2)\n",
        "\n",
        "    msle=round(msle,2)\n",
        "\n",
        "    return [mse,mae,mape,msle]\n",
        "\n",
        "model_lr=train_ml_model(X_train_scaled,y_train,'lr')\n",
        "\n",
        "model_xgb=train_ml_model(X_train_scaled,y_train,'xgb')\n",
        "\n",
        "model_rf=train_ml_model(X_train_scaled,y_train,'rf')\n",
        "\n",
        "## Deep Learning\n",
        "\n"
      ],
      "metadata": {
        "colab": {
          "base_uri": "https://localhost:8080/"
        },
        "id": "Bdeze28P1Nxe",
        "outputId": "7467c94a-249c-44ba-e7ea-e39175bbde34"
      },
      "execution_count": null,
      "outputs": [
        {
          "output_type": "stream",
          "name": "stdout",
          "text": [
            "[11:43:25] WARNING: /workspace/src/objective/regression_obj.cu:152: reg:linear is now deprecated in favor of reg:squarederror.\n"
          ]
        }
      ]
    },
    {
      "cell_type": "code",
      "source": [
        "### Small Network\n",
        "\n",
        "model_dl_small=Sequential()\n",
        "\n",
        "model_dl_small.add(Dense(16,input_dim=X_train_scaled.shape[1],activation='relu'))\n",
        "\n",
        "model_dl_small.add(Dense(8,activation='relu'))\n",
        "\n",
        "model_dl_small.add(Dense(4,activation='relu'))\n",
        "\n",
        "model_dl_small.add(Dense(1,activation='linear'))\n",
        "\n",
        "model_dl_small.compile(loss='mean_squared_error',optimizer='adam')\n",
        "\n",
        "model_dl_small.summary()\n",
        "\n",
        "epochs=10\n",
        "\n",
        "batch_size=10\n",
        "\n",
        "model_dl_small.fit(X_train_scaled,y_train,verbose=1,validation_data=(X_test_scaled,y_test),epochs=epochs,batch_size=batch_size)\n",
        "\n",
        "#plot the loss and validation loss of the dataset\n",
        "\n",
        "history_df = pd.DataFrame(model_dl_small.history.history)\n",
        "\n"
      ],
      "metadata": {
        "colab": {
          "base_uri": "https://localhost:8080/"
        },
        "id": "qKW368ZMEpVq",
        "outputId": "ac7ea260-5509-49ee-ca4f-782dfbf5d81d"
      },
      "execution_count": null,
      "outputs": [
        {
          "output_type": "stream",
          "name": "stdout",
          "text": [
            "Model: \"sequential_6\"\n",
            "_________________________________________________________________\n",
            " Layer (type)                Output Shape              Param #   \n",
            "=================================================================\n",
            " dense_24 (Dense)            (None, 16)                160       \n",
            "                                                                 \n",
            " dense_25 (Dense)            (None, 8)                 136       \n",
            "                                                                 \n",
            " dense_26 (Dense)            (None, 4)                 36        \n",
            "                                                                 \n",
            " dense_27 (Dense)            (None, 1)                 5         \n",
            "                                                                 \n",
            "=================================================================\n",
            "Total params: 337\n",
            "Trainable params: 337\n",
            "Non-trainable params: 0\n",
            "_________________________________________________________________\n",
            "Epoch 1/10\n",
            "411/411 [==============================] - 3s 4ms/step - loss: 12.1241 - val_loss: 9.1259\n",
            "Epoch 2/10\n",
            "411/411 [==============================] - 1s 3ms/step - loss: 8.2289 - val_loss: 6.3999\n",
            "Epoch 3/10\n",
            "411/411 [==============================] - 1s 3ms/step - loss: 3.9166 - val_loss: 2.2104\n",
            "Epoch 4/10\n",
            "411/411 [==============================] - 1s 3ms/step - loss: 1.9191 - val_loss: 1.6507\n",
            "Epoch 5/10\n",
            "411/411 [==============================] - 1s 3ms/step - loss: 1.5263 - val_loss: 1.3874\n",
            "Epoch 6/10\n",
            "411/411 [==============================] - 1s 3ms/step - loss: 1.3344 - val_loss: 1.2278\n",
            "Epoch 7/10\n",
            "411/411 [==============================] - 1s 3ms/step - loss: 1.1885 - val_loss: 1.1231\n",
            "Epoch 8/10\n",
            "411/411 [==============================] - 1s 3ms/step - loss: 1.0675 - val_loss: 1.0723\n",
            "Epoch 9/10\n",
            "411/411 [==============================] - 1s 3ms/step - loss: 0.9741 - val_loss: 0.9533\n",
            "Epoch 10/10\n",
            "411/411 [==============================] - 1s 3ms/step - loss: 0.9101 - val_loss: 0.9384\n"
          ]
        }
      ]
    },
    {
      "cell_type": "code",
      "source": [
        "plt.figure(figsize=(10,10))\n",
        "\n",
        "plt.plot(history_df['loss'], label='loss')\n",
        "\n",
        "plt.plot(history_df['val_loss'], label='val_loss')\n",
        "\n",
        "#plt.xticks(np.arange(1,epochs+1))\n",
        "\n",
        "#plt.yticks(np.arange(1,max(history_df['loss']),0.5))\n",
        "\n",
        "plt.legend()\n",
        "\n",
        "plt.grid()\n",
        "\n",
        "plt.show()"
      ],
      "metadata": {
        "colab": {
          "base_uri": "https://localhost:8080/",
          "height": 592
        },
        "id": "i7GHjRqUEvkG",
        "outputId": "023dbf06-fd2c-45dc-9317-179f1e70f6b5"
      },
      "execution_count": null,
      "outputs": [
        {
          "output_type": "display_data",
          "data": {
            "text/plain": [
              "<Figure size 720x720 with 1 Axes>"
            ],
            "image/png": "[encoded data removed]"
          },
          "metadata": {
            "needs_background": "light"
          }
        }
      ]
    },
    {
      "cell_type": "code",
      "source": [
        "### Large Network\n",
        "\n",
        "model_dl_large=Sequential()\n",
        "\n",
        "model_dl_large.add(Dense(64,input_dim=X_train_scaled.shape[1],activation='relu'))\n",
        "\n",
        "model_dl_large.add(Dense(32,activation='relu'))\n",
        "\n",
        "model_dl_large.add(Dense(16,activation='relu'))\n",
        "\n",
        "model_dl_large.add(Dense(1,activation='linear'))\n",
        "\n",
        "model_dl_large.compile(loss='mean_squared_error',optimizer='adam')\n",
        "\n",
        "model_dl_large.summary()\n",
        "\n",
        "epochs=10\n",
        "\n",
        "batch_size=10\n",
        "\n",
        "model_dl_large.fit(X_train_scaled,y_train,verbose=1,validation_data=(X_test_scaled,y_test),epochs=epochs,batch_size=batch_size)\n",
        "\n",
        "#plot the loss and validation loss of the dataset\n",
        "\n",
        "history_df = pd.DataFrame(model_dl_large.history.history)\n",
        "\n",
        "plt.figure(figsize=(10,10))\n",
        "\n",
        "plt.plot(history_df['loss'], label='loss')\n",
        "\n",
        "plt.plot(history_df['val_loss'], label='val_loss')\n",
        "\n",
        "#plt.xticks(np.arange(1,epochs+1,2))\n",
        "\n",
        "#plt.yticks(np.arange(1,max(history_df['loss']),0.5))\n",
        "\n",
        "plt.legend()\n",
        "\n",
        "plt.grid()"
      ],
      "metadata": {
        "colab": {
          "base_uri": "https://localhost:8080/",
          "height": 1000
        },
        "id": "wlEa4sOcI7ZF",
        "outputId": "4cbae641-95cf-48fd-e229-099a78614c2a"
      },
      "execution_count": null,
      "outputs": [
        {
          "output_type": "stream",
          "name": "stdout",
          "text": [
            "Model: \"sequential_7\"\n",
            "_________________________________________________________________\n",
            " Layer (type)                Output Shape              Param #   \n",
            "=================================================================\n",
            " dense_28 (Dense)            (None, 64)                640       \n",
            "                                                                 \n",
            " dense_29 (Dense)            (None, 32)                2080      \n",
            "                                                                 \n",
            " dense_30 (Dense)            (None, 16)                528       \n",
            "                                                                 \n",
            " dense_31 (Dense)            (None, 1)                 17        \n",
            "                                                                 \n",
            "=================================================================\n",
            "Total params: 3,265\n",
            "Trainable params: 3,265\n",
            "Non-trainable params: 0\n",
            "_________________________________________________________________\n",
            "Epoch 1/10\n",
            "411/411 [==============================] - 2s 4ms/step - loss: 8.1176 - val_loss: 2.7456\n",
            "Epoch 2/10\n",
            "411/411 [==============================] - 1s 3ms/step - loss: 1.9341 - val_loss: 1.5426\n",
            "Epoch 3/10\n",
            "411/411 [==============================] - 1s 3ms/step - loss: 1.3276 - val_loss: 1.1881\n",
            "Epoch 4/10\n",
            "411/411 [==============================] - 1s 3ms/step - loss: 0.9954 - val_loss: 0.8744\n",
            "Epoch 5/10\n",
            "411/411 [==============================] - 1s 3ms/step - loss: 0.7659 - val_loss: 0.7580\n",
            "Epoch 6/10\n",
            "411/411 [==============================] - 1s 3ms/step - loss: 0.5953 - val_loss: 0.5420\n",
            "Epoch 7/10\n",
            "411/411 [==============================] - 1s 3ms/step - loss: 0.4571 - val_loss: 0.4158\n",
            "Epoch 8/10\n",
            "411/411 [==============================] - 1s 3ms/step - loss: 0.3515 - val_loss: 0.3305\n",
            "Epoch 9/10\n",
            "411/411 [==============================] - 1s 3ms/step - loss: 0.2968 - val_loss: 0.2850\n",
            "Epoch 10/10\n",
            "411/411 [==============================] - 1s 3ms/step - loss: 0.2595 - val_loss: 0.2625\n"
          ]
        },
        {
          "output_type": "display_data",
          "data": {
            "text/plain": [
              "<Figure size 720x720 with 1 Axes>"
            ],
            "image/png": "[encoded data removed]"
          },
          "metadata": {
            "needs_background": "light"
          }
        }
      ]
    },
    {
      "cell_type": "code",
      "source": [
        "min(y_test)"
      ],
      "metadata": {
        "colab": {
          "base_uri": "https://localhost:8080/"
        },
        "id": "3p3n7alwJWDZ",
        "outputId": "9e5f6776-1506-4380-d593-658e227cbdcb"
      },
      "execution_count": null,
      "outputs": [
        {
          "output_type": "execute_result",
          "data": {
            "text/plain": [
              "0.0"
            ]
          },
          "metadata": {},
          "execution_count": 198
        }
      ]
    },
    {
      "cell_type": "code",
      "source": [
        "model_evaluate(model_lr,X_test_scaled,y_test)"
      ],
      "metadata": {
        "colab": {
          "base_uri": "https://localhost:8080/"
        },
        "id": "5QzQV2TzJNRY",
        "outputId": "bdc5cb51-a8e0-4d99-8e99-433179684d69"
      },
      "execution_count": null,
      "outputs": [
        {
          "output_type": "execute_result",
          "data": {
            "text/plain": [
              "[8.97, 2.88, 6313993878452221.0, 1.05]"
            ]
          },
          "metadata": {},
          "execution_count": 211
        }
      ]
    },
    {
      "cell_type": "code",
      "source": [
        "y_pred=model_xgb.predict(X_test_scaled)"
      ],
      "metadata": {
        "id": "sIZC_ZXvJeom"
      },
      "execution_count": null,
      "outputs": []
    },
    {
      "cell_type": "code",
      "source": [
        "min(y_pred)"
      ],
      "metadata": {
        "colab": {
          "base_uri": "https://localhost:8080/"
        },
        "id": "KQGnrXtbJhW9",
        "outputId": "a5b04248-2d20-45cb-b62b-776581a33ae5"
      },
      "execution_count": null,
      "outputs": [
        {
          "output_type": "execute_result",
          "data": {
            "text/plain": [
              "-0.52626586"
            ]
          },
          "metadata": {},
          "execution_count": 210
        }
      ]
    },
    {
      "cell_type": "code",
      "source": [
        "\n",
        "\n",
        "summary=PrettyTable(['Model','MSE','MAE','MAPE','MSLE'])\n",
        "\n",
        "summary.add_row(['LR']+model_evaluate(model_lr,X_test_scaled,y_test))\n",
        "\n",
        "#summary.add_row(['XGB']+model_evaluate(model_xgb,X_test_scaled,y_test))\n",
        "\n",
        "summary.add_row(['RF']+model_evaluate(model_rf,X_test_scaled,y_test))\n",
        "\n",
        "#summary.add_row(['DL_SMALL']+model_evaluate(model_dl_small,X_test_scaled,y_test))\n",
        "\n",
        "#summary.add_row(['DL_LARGE']+model_evaluate(model_dl_large,X_test_scaled,y_test))\n",
        "\n",
        "print(summary)\n",
        "\n",
        "y_pred=np.exp(model_rf.predict(X_test_scaled))\n",
        "\n",
        "number_of_observations=20\n",
        "\n",
        "x_ax = range(len(y_test[:number_of_observations]))\n",
        "\n",
        "plt.figure(figsize=(20,10))\n",
        "\n",
        "plt.plot(x_ax, y_test[:number_of_observations], label=\"True\")\n",
        "\n",
        "plt.plot(x_ax, y_pred[:number_of_observations], label=\"Predicted\")\n",
        "\n",
        "plt.title(\"Car Price - True vs Predicted data\")\n",
        "\n",
        "plt.xlabel('Observation Number')\n",
        "\n",
        "plt.ylabel('Price')\n",
        "\n",
        "plt.xticks(np.arange(number_of_observations))\n"
      ],
      "metadata": {
        "colab": {
          "base_uri": "https://localhost:8080/",
          "height": 1000
        },
        "id": "4YphNckG2eZT",
        "outputId": "aba0e5ed-3cfe-4782-aefb-7beffa3fdab3"
      },
      "execution_count": null,
      "outputs": [
        {
          "output_type": "stream",
          "name": "stdout",
          "text": [
            "+-------+------+------+--------------------+------+\n",
            "| Model | MSE  | MAE  |        MAPE        | MSLE |\n",
            "+-------+------+------+--------------------+------+\n",
            "|   LR  | 8.97 | 2.88 | 6313993878452221.0 | 1.05 |\n",
            "|   RF  | 0.02 | 0.07 |  5710213104769.12  | 0.0  |\n",
            "+-------+------+------+--------------------+------+\n"
          ]
        },
        {
          "output_type": "execute_result",
          "data": {
            "text/plain": [
              "([<matplotlib.axis.XTick at 0x7f792c348410>,\n",
              "  <matplotlib.axis.XTick at 0x7f792c32b110>,\n",
              "  <matplotlib.axis.XTick at 0x7f792c32b490>,\n",
              "  <matplotlib.axis.XTick at 0x7f786c97f4d0>,\n",
              "  <matplotlib.axis.XTick at 0x7f792c33d5d0>,\n",
              "  <matplotlib.axis.XTick at 0x7f792c33dd10>,\n",
              "  <matplotlib.axis.XTick at 0x7f792c33ded0>,\n",
              "  <matplotlib.axis.XTick at 0x7f792c340c10>,\n",
              "  <matplotlib.axis.XTick at 0x7f792c340950>,\n",
              "  <matplotlib.axis.XTick at 0x7f792c346450>,\n",
              "  <matplotlib.axis.XTick at 0x7f792c346d10>,\n",
              "  <matplotlib.axis.XTick at 0x7f792c346c10>,\n",
              "  <matplotlib.axis.XTick at 0x7f792c3405d0>,\n",
              "  <matplotlib.axis.XTick at 0x7f792c33d4d0>,\n",
              "  <matplotlib.axis.XTick at 0x7f786bc12b50>,\n",
              "  <matplotlib.axis.XTick at 0x7f786bc12550>,\n",
              "  <matplotlib.axis.XTick at 0x7f786bc12410>,\n",
              "  <matplotlib.axis.XTick at 0x7f786d50bcd0>,\n",
              "  <matplotlib.axis.XTick at 0x7f786d50b7d0>,\n",
              "  <matplotlib.axis.XTick at 0x7f786c9f2390>],\n",
              " <a list of 20 Text major ticklabel objects>)"
            ]
          },
          "metadata": {},
          "execution_count": 215
        },
        {
          "output_type": "display_data",
          "data": {
            "text/plain": [
              "<Figure size 1440x720 with 1 Axes>"
            ],
            "image/png": "[encoded data removed]"
          },
          "metadata": {
            "needs_background": "light"
          }
        }
      ]
    },
    {
      "cell_type": "code",
      "source": [
        " dataset[0:train_size,:]"
      ],
      "metadata": {
        "colab": {
          "base_uri": "https://localhost:8080/",
          "height": 424
        },
        "id": "NnNCNizqSUD7",
        "outputId": "d3fd5051-0aee-46ad-b0b5-515422c15968"
      },
      "execution_count": null,
      "outputs": [
        {
          "output_type": "execute_result",
          "data": {
            "text/plain": [
              "      Hava şəraiti  Tarix_ay  Fəsil  Panel sayı  Panel gücü  Tarix_gün  \\\n",
              "0             0.25       0.0    0.0    0.789474    0.000000   0.000000   \n",
              "1             0.25       0.0    0.0    0.052632    0.166667   0.000000   \n",
              "2             0.25       0.0    0.0    0.736842    0.166667   0.000000   \n",
              "3             1.00       0.0    0.0    0.789474    0.000000   0.000000   \n",
              "4             0.25       0.0    0.0    0.842105    1.000000   0.000000   \n",
              "...            ...       ...    ...         ...         ...        ...   \n",
              "5125          0.25       1.0    0.5    0.473684    0.166667   0.033333   \n",
              "5126          0.25       1.0    0.5    0.000000    0.000000   0.033333   \n",
              "5127          0.25       1.0    0.5    0.000000    0.166667   0.033333   \n",
              "5128          0.25       1.0    0.5    0.894737    0.111111   0.033333   \n",
              "5129          0.25       1.0    0.5    0.421053    0.166667   0.033333   \n",
              "\n",
              "      Tarix_saat  Gün çıxa saat  Gün bata saat  Günəş enerjisi  \n",
              "0       0.000000       1.000000            0.0        0.000000  \n",
              "1       0.043478       0.666667            0.0        0.000000  \n",
              "2       0.086957       0.666667            0.0        0.000000  \n",
              "3       0.130435       0.666667            0.0        0.000000  \n",
              "4       0.173913       0.666667            0.0        0.000000  \n",
              "...          ...            ...            ...             ...  \n",
              "5125    0.565217       0.000000            1.0        6.746398  \n",
              "5126    0.608696       0.000000            1.0        5.020667  \n",
              "5127    0.652174       0.000000            1.0        5.668072  \n",
              "5128    0.695652       0.000000            1.0        6.012536  \n",
              "5129    0.739130       0.000000            1.0        5.090115  \n",
              "\n",
              "[5130 rows x 10 columns]"
            ],
            "text/html": [
              "\n",
              "  <div id=\"df-deadc24c-8ac1-4d35-8790-8fa7dd70dd9c\">\n",
              "    <div class=\"colab-df-container\">\n",
              "      <div>\n",
              "<style scoped>\n",
              "    .dataframe tbody tr th:only-of-type {\n",
              "        vertical-align: middle;\n",
              "    }\n",
              "\n",
              "    .dataframe tbody tr th {\n",
              "        vertical-align: top;\n",
              "    }\n",
              "\n",
              "    .dataframe thead th {\n",
              "        text-align: right;\n",
              "    }\n",
              "</style>\n",
              "<table border=\"1\" class=\"dataframe\">\n",
              "  <thead>\n",
              "    <tr style=\"text-align: right;\">\n",
              "      <th></th>\n",
              "      <th>Hava şəraiti</th>\n",
              "      <th>Tarix_ay</th>\n",
              "      <th>Fəsil</th>\n",
              "      <th>Panel sayı</th>\n",
              "      <th>Panel gücü</th>\n",
              "      <th>Tarix_gün</th>\n",
              "      <th>Tarix_saat</th>\n",
              "      <th>Gün çıxa saat</th>\n",
              "      <th>Gün bata saat</th>\n",
              "      <th>Günəş enerjisi</th>\n",
              "    </tr>\n",
              "  </thead>\n",
              "  <tbody>\n",
              "    <tr>\n",
              "      <th>0</th>\n",
              "      <td>0.25</td>\n",
              "      <td>0.0</td>\n",
              "      <td>0.0</td>\n",
              "      <td>0.789474</td>\n",
              "      <td>0.000000</td>\n",
              "      <td>0.000000</td>\n",
              "      <td>0.000000</td>\n",
              "      <td>1.000000</td>\n",
              "      <td>0.0</td>\n",
              "      <td>0.000000</td>\n",
              "    </tr>\n",
              "    <tr>\n",
              "      <th>1</th>\n",
              "      <td>0.25</td>\n",
              "      <td>0.0</td>\n",
              "      <td>0.0</td>\n",
              "      <td>0.052632</td>\n",
              "      <td>0.166667</td>\n",
              "      <td>0.000000</td>\n",
              "      <td>0.043478</td>\n",
              "      <td>0.666667</td>\n",
              "      <td>0.0</td>\n",
              "      <td>0.000000</td>\n",
              "    </tr>\n",
              "    <tr>\n",
              "      <th>2</th>\n",
              "      <td>0.25</td>\n",
              "      <td>0.0</td>\n",
              "      <td>0.0</td>\n",
              "      <td>0.736842</td>\n",
              "      <td>0.166667</td>\n",
              "      <td>0.000000</td>\n",
              "      <td>0.086957</td>\n",
              "      <td>0.666667</td>\n",
              "      <td>0.0</td>\n",
              "      <td>0.000000</td>\n",
              "    </tr>\n",
              "    <tr>\n",
              "      <th>3</th>\n",
              "      <td>1.00</td>\n",
              "      <td>0.0</td>\n",
              "      <td>0.0</td>\n",
              "      <td>0.789474</td>\n",
              "      <td>0.000000</td>\n",
              "      <td>0.000000</td>\n",
              "      <td>0.130435</td>\n",
              "      <td>0.666667</td>\n",
              "      <td>0.0</td>\n",
              "      <td>0.000000</td>\n",
              "    </tr>\n",
              "    <tr>\n",
              "      <th>4</th>\n",
              "      <td>0.25</td>\n",
              "      <td>0.0</td>\n",
              "      <td>0.0</td>\n",
              "      <td>0.842105</td>\n",
              "      <td>1.000000</td>\n",
              "      <td>0.000000</td>\n",
              "      <td>0.173913</td>\n",
              "      <td>0.666667</td>\n",
              "      <td>0.0</td>\n",
              "      <td>0.000000</td>\n",
              "    </tr>\n",
              "    <tr>\n",
              "      <th>...</th>\n",
              "      <td>...</td>\n",
              "      <td>...</td>\n",
              "      <td>...</td>\n",
              "      <td>...</td>\n",
              "      <td>...</td>\n",
              "      <td>...</td>\n",
              "      <td>...</td>\n",
              "      <td>...</td>\n",
              "      <td>...</td>\n",
              "      <td>...</td>\n",
              "    </tr>\n",
              "    <tr>\n",
              "      <th>5125</th>\n",
              "      <td>0.25</td>\n",
              "      <td>1.0</td>\n",
              "      <td>0.5</td>\n",
              "      <td>0.473684</td>\n",
              "      <td>0.166667</td>\n",
              "      <td>0.033333</td>\n",
              "      <td>0.565217</td>\n",
              "      <td>0.000000</td>\n",
              "      <td>1.0</td>\n",
              "      <td>6.746398</td>\n",
              "    </tr>\n",
              "    <tr>\n",
              "      <th>5126</th>\n",
              "      <td>0.25</td>\n",
              "      <td>1.0</td>\n",
              "      <td>0.5</td>\n",
              "      <td>0.000000</td>\n",
              "      <td>0.000000</td>\n",
              "      <td>0.033333</td>\n",
              "      <td>0.608696</td>\n",
              "      <td>0.000000</td>\n",
              "      <td>1.0</td>\n",
              "      <td>5.020667</td>\n",
              "    </tr>\n",
              "    <tr>\n",
              "      <th>5127</th>\n",
              "      <td>0.25</td>\n",
              "      <td>1.0</td>\n",
              "      <td>0.5</td>\n",
              "      <td>0.000000</td>\n",
              "      <td>0.166667</td>\n",
              "      <td>0.033333</td>\n",
              "      <td>0.652174</td>\n",
              "      <td>0.000000</td>\n",
              "      <td>1.0</td>\n",
              "      <td>5.668072</td>\n",
              "    </tr>\n",
              "    <tr>\n",
              "      <th>5128</th>\n",
              "      <td>0.25</td>\n",
              "      <td>1.0</td>\n",
              "      <td>0.5</td>\n",
              "      <td>0.894737</td>\n",
              "      <td>0.111111</td>\n",
              "      <td>0.033333</td>\n",
              "      <td>0.695652</td>\n",
              "      <td>0.000000</td>\n",
              "      <td>1.0</td>\n",
              "      <td>6.012536</td>\n",
              "    </tr>\n",
              "    <tr>\n",
              "      <th>5129</th>\n",
              "      <td>0.25</td>\n",
              "      <td>1.0</td>\n",
              "      <td>0.5</td>\n",
              "      <td>0.421053</td>\n",
              "      <td>0.166667</td>\n",
              "      <td>0.033333</td>\n",
              "      <td>0.739130</td>\n",
              "      <td>0.000000</td>\n",
              "      <td>1.0</td>\n",
              "      <td>5.090115</td>\n",
              "    </tr>\n",
              "  </tbody>\n",
              "</table>\n",
              "<p>5130 rows × 10 columns</p>\n",
              "</div>\n",
              "      <button class=\"colab-df-convert\" onclick=\"convertToInteractive('df-deadc24c-8ac1-4d35-8790-8fa7dd70dd9c')\"\n",
              "              title=\"Convert this dataframe to an interactive table.\"\n",
              "              style=\"display:none;\">\n",
              "        \n",
              "  <svg xmlns=\"http://www.w3.org/2000/svg\" height=\"24px\"viewBox=\"0 0 24 24\"\n",
              "       width=\"24px\">\n",
              "    <path d=\"M0 0h24v24H0V0z\" fill=\"none\"/>\n",
              "    <path d=\"M18.56 5.44l.94 2.06.94-2.06 2.06-.94-2.06-.94-.94-2.06-.94 2.06-2.06.94zm-11 1L8.5 8.5l.94-2.06 2.06-.94-2.06-.94L8.5 2.5l-.94 2.06-2.06.94zm10 10l.94 2.06.94-2.06 2.06-.94-2.06-.94-.94-2.06-.94 2.06-2.06.94z\"/><path d=\"M17.41 7.96l-1.37-1.37c-.4-.4-.92-.59-1.43-.59-.52 0-1.04.2-1.43.59L10.3 9.45l-7.72 7.72c-.78.78-.78 2.05 0 2.83L4 21.41c.39.39.9.59 1.41.59.51 0 1.02-.2 1.41-.59l7.78-7.78 2.81-2.81c.8-.78.8-2.07 0-2.86zM5.41 20L4 18.59l7.72-7.72 1.47 1.35L5.41 20z\"/>\n",
              "  </svg>\n",
              "      </button>\n",
              "      \n",
              "  <style>\n",
              "    .colab-df-container {\n",
              "      display:flex;\n",
              "      flex-wrap:wrap;\n",
              "      gap: 12px;\n",
              "    }\n",
              "\n",
              "    .colab-df-convert {\n",
              "      background-color: #E8F0FE;\n",
              "      border: none;\n",
              "      border-radius: 50%;\n",
              "      cursor: pointer;\n",
              "      display: none;\n",
              "      fill: #1967D2;\n",
              "      height: 32px;\n",
              "      padding: 0 0 0 0;\n",
              "      width: 32px;\n",
              "    }\n",
              "\n",
              "    .colab-df-convert:hover {\n",
              "      background-color: #E2EBFA;\n",
              "      box-shadow: 0px 1px 2px rgba(60, 64, 67, 0.3), 0px 1px 3px 1px rgba(60, 64, 67, 0.15);\n",
              "      fill: #174EA6;\n",
              "    }\n",
              "\n",
              "    [theme=dark] .colab-df-convert {\n",
              "      background-color: #3B4455;\n",
              "      fill: #D2E3FC;\n",
              "    }\n",
              "\n",
              "    [theme=dark] .colab-df-convert:hover {\n",
              "      background-color: #434B5C;\n",
              "      box-shadow: 0px 1px 3px 1px rgba(0, 0, 0, 0.15);\n",
              "      filter: drop-shadow(0px 1px 2px rgba(0, 0, 0, 0.3));\n",
              "      fill: #FFFFFF;\n",
              "    }\n",
              "  </style>\n",
              "\n",
              "      <script>\n",
              "        const buttonEl =\n",
              "          document.querySelector('#df-deadc24c-8ac1-4d35-8790-8fa7dd70dd9c button.colab-df-convert');\n",
              "        buttonEl.style.display =\n",
              "          google.colab.kernel.accessAllowed ? 'block' : 'none';\n",
              "\n",
              "        async function convertToInteractive(key) {\n",
              "          const element = document.querySelector('#df-deadc24c-8ac1-4d35-8790-8fa7dd70dd9c');\n",
              "          const dataTable =\n",
              "            await google.colab.kernel.invokeFunction('convertToInteractive',\n",
              "                                                     [key], {});\n",
              "          if (!dataTable) return;\n",
              "\n",
              "          const docLinkHtml = 'Like what you see? Visit the ' +\n",
              "            '<a target=\"_blank\" href=https://colab.research.google.com/notebooks/data_table.ipynb>data table notebook</a>'\n",
              "            + ' to learn more about interactive tables.';\n",
              "          element.innerHTML = '';\n",
              "          dataTable['output_type'] = 'display_data';\n",
              "          await google.colab.output.renderOutput(dataTable, element);\n",
              "          const docLink = document.createElement('div');\n",
              "          docLink.innerHTML = docLinkHtml;\n",
              "          element.appendChild(docLink);\n",
              "        }\n",
              "      </script>\n",
              "    </div>\n",
              "  </div>\n",
              "  "
            ]
          },
          "metadata": {},
          "execution_count": 222
        }
      ]
    },
    {
      "cell_type": "code",
      "source": [
        "# Stacked LSTM for international airline passengers problem with memory\n",
        "import numpy as np\n",
        "import matplotlib.pyplot as plt\n",
        "from pandas import read_csv\n",
        "import tensorflow as tf\n",
        "from keras.models import Sequential\n",
        "from keras.layers import Dense\n",
        "from keras.layers import LSTM\n",
        "from sklearn.preprocessing import MinMaxScaler\n",
        "from sklearn.metrics import mean_squared_error\n",
        "# convert an array of values into a dataset matrix\n",
        "def create_dataset(dataset, look_back=1):\n",
        "\tdataX, dataY = [], []\n",
        "\tfor i in range(len(dataset)-look_back-1):\n",
        "\t\ta = dataset.iloc[i:(i+look_back), 0]\n",
        "\t\tdataX.append(a)\n",
        "\t\tdataY.append(dataset.iloc[i + look_back, 0])\n",
        "\treturn np.array(dataX), np.array(dataY)\n",
        "# fix random seed for reproducibility\n",
        "tf.random.set_seed(7)\n",
        "# load the dataset\n",
        "#dataframe = read_csv('airline-passengers.csv', usecols=[1], engine='python')\n",
        "dataset=data_final.copy()\n",
        "#dataset = dataframe.values\n",
        "#dataset = dataset.astype('float32')\n",
        "# normalize the dataset\n",
        "scaler = MinMaxScaler(feature_range=(0, 1))\n",
        "dataset.iloc[:, :-1] = scaler.fit_transform(dataset.iloc[:, :-1])\n",
        "# split into train and test sets\n",
        "train_size = int(len(dataset) * 0.67)\n",
        "test_size = len(dataset) - train_size\n",
        "train, test = dataset.iloc[0:train_size,:], dataset.iloc[train_size:len(dataset),:]"
      ],
      "metadata": {
        "id": "6aRGUdblgxf1"
      },
      "execution_count": null,
      "outputs": []
    },
    {
      "cell_type": "code",
      "source": [
        "# reshape into X=t and Y=t+1\n",
        "look_back = 3\n",
        "trainX, trainY = create_dataset(train, look_back)\n",
        "testX, testY = create_dataset(test, look_back)\n",
        "# reshape input to be [samples, time steps, features]\n",
        "trainX = np.reshape(trainX, (trainX.shape[0], trainX.shape[1], 1))\n",
        "testX = np.reshape(testX, (testX.shape[0], testX.shape[1], 1))\n",
        "# create and fit the LSTM network\n",
        "batch_size = 1\n",
        "model = Sequential()\n",
        "model.add(LSTM(4, batch_input_shape=(batch_size, look_back, 1), stateful=True, return_sequences=True))\n",
        "model.add(LSTM(4, batch_input_shape=(batch_size, look_back, 1), stateful=True))\n",
        "model.add(Dense(1))\n",
        "model.compile(loss='mean_squared_error', optimizer='adam')\n",
        "for i in range(5):\n",
        "\tmodel.fit(trainX, trainY, epochs=1, batch_size=batch_size, verbose=2, shuffle=False)\n",
        "\tmodel.reset_states()"
      ],
      "metadata": {
        "colab": {
          "base_uri": "https://localhost:8080/"
        },
        "id": "yqO_jLSYi8NT",
        "outputId": "9fae32c6-bc79-4e70-b048-63b02b1de64b"
      },
      "execution_count": null,
      "outputs": [
        {
          "output_type": "stream",
          "name": "stdout",
          "text": [
            "3433/3433 - 14s - loss: 0.0375 - 14s/epoch - 4ms/step\n",
            "3433/3433 - 12s - loss: 0.0362 - 12s/epoch - 4ms/step\n",
            "3433/3433 - 12s - loss: 0.0361 - 12s/epoch - 4ms/step\n",
            "3433/3433 - 12s - loss: 0.0361 - 12s/epoch - 3ms/step\n",
            "3433/3433 - 12s - loss: 0.0360 - 12s/epoch - 3ms/step\n"
          ]
        }
      ]
    },
    {
      "cell_type": "code",
      "source": [
        "# make predictions\n",
        "trainPredict = model.predict(trainX, batch_size=batch_size)\n",
        "model.reset_states()\n",
        "testPredict = model.predict(testX, batch_size=batch_size)\n",
        "# invert predictions\n",
        "trainPredict = scaler.inverse_transform(trainPredict)\n",
        "trainY = scaler.inverse_transform([trainY])\n",
        "testPredict = scaler.inverse_transform(testPredict)\n",
        "testY = scaler.inverse_transform([testY])\n",
        "# calculate root mean squared error\n",
        "trainScore = np.sqrt(mean_squared_error(trainY[0], trainPredict[:,0]))\n",
        "print('Train Score: %.2f RMSE' % (trainScore))\n",
        "testScore = np.sqrt(mean_squared_error(testY[0], testPredict[:,0]))\n",
        "print('Test Score: %.2f RMSE' % (testScore))\n",
        "# shift train predictions for plotting\n",
        "trainPredictPlot = np.empty_like(dataset)\n",
        "trainPredictPlot[:, :] = np.nan\n",
        "trainPredictPlot[look_back:len(trainPredict)+look_back, :] = trainPredict\n",
        "# shift test predictions for plotting\n",
        "testPredictPlot = np.empty_like(dataset)\n",
        "testPredictPlot[:, :] = np.nan\n",
        "testPredictPlot[len(trainPredict)+(look_back*2)+1:len(dataset)-1, :] = testPredict\n",
        "# plot baseline and predictions\n",
        "plt.plot(scaler.inverse_transform(dataset))\n",
        "plt.plot(trainPredictPlot)\n",
        "plt.plot(testPredictPlot)\n",
        "plt.show()"
      ],
      "metadata": {
        "colab": {
          "base_uri": "https://localhost:8080/",
          "height": 356
        },
        "id": "t-OgJr81iXUv",
        "outputId": "d94be5d3-a3c5-4dc9-cc70-fd97f0da87ec"
      },
      "execution_count": null,
      "outputs": [
        {
          "output_type": "error",
          "ename": "ValueError",
          "evalue": "ignored",
          "traceback": [
            "\u001b[0;31m---------------------------------------------------------------------------\u001b[0m",
            "\u001b[0;31mValueError\u001b[0m                                Traceback (most recent call last)",
            "\u001b[0;32m<ipython-input-228-16a27c180cfd>\u001b[0m in \u001b[0;36m<module>\u001b[0;34m\u001b[0m\n\u001b[1;32m      4\u001b[0m \u001b[0mtestPredict\u001b[0m \u001b[0;34m=\u001b[0m \u001b[0mmodel\u001b[0m\u001b[0;34m.\u001b[0m\u001b[0mpredict\u001b[0m\u001b[0;34m(\u001b[0m\u001b[0mtestX\u001b[0m\u001b[0;34m,\u001b[0m \u001b[0mbatch_size\u001b[0m\u001b[0;34m=\u001b[0m\u001b[0mbatch_size\u001b[0m\u001b[0;34m)\u001b[0m\u001b[0;34m\u001b[0m\u001b[0;34m\u001b[0m\u001b[0m\n\u001b[1;32m      5\u001b[0m \u001b[0;31m# invert predictions\u001b[0m\u001b[0;34m\u001b[0m\u001b[0;34m\u001b[0m\u001b[0;34m\u001b[0m\u001b[0m\n\u001b[0;32m----> 6\u001b[0;31m \u001b[0mtrainPredict\u001b[0m \u001b[0;34m=\u001b[0m \u001b[0mscaler\u001b[0m\u001b[0;34m.\u001b[0m\u001b[0minverse_transform\u001b[0m\u001b[0;34m(\u001b[0m\u001b[0mtrainPredict\u001b[0m\u001b[0;34m)\u001b[0m\u001b[0;34m\u001b[0m\u001b[0;34m\u001b[0m\u001b[0m\n\u001b[0m\u001b[1;32m      7\u001b[0m \u001b[0mtrainY\u001b[0m \u001b[0;34m=\u001b[0m \u001b[0mscaler\u001b[0m\u001b[0;34m.\u001b[0m\u001b[0minverse_transform\u001b[0m\u001b[0;34m(\u001b[0m\u001b[0;34m[\u001b[0m\u001b[0mtrainY\u001b[0m\u001b[0;34m]\u001b[0m\u001b[0;34m)\u001b[0m\u001b[0;34m\u001b[0m\u001b[0;34m\u001b[0m\u001b[0m\n\u001b[1;32m      8\u001b[0m \u001b[0mtestPredict\u001b[0m \u001b[0;34m=\u001b[0m \u001b[0mscaler\u001b[0m\u001b[0;34m.\u001b[0m\u001b[0minverse_transform\u001b[0m\u001b[0;34m(\u001b[0m\u001b[0mtestPredict\u001b[0m\u001b[0;34m)\u001b[0m\u001b[0;34m\u001b[0m\u001b[0;34m\u001b[0m\u001b[0m\n",
            "\u001b[0;32m/usr/local/lib/python3.7/dist-packages/sklearn/preprocessing/_data.py\u001b[0m in \u001b[0;36minverse_transform\u001b[0;34m(self, X)\u001b[0m\n\u001b[1;32m    527\u001b[0m         )\n\u001b[1;32m    528\u001b[0m \u001b[0;34m\u001b[0m\u001b[0m\n\u001b[0;32m--> 529\u001b[0;31m         \u001b[0mX\u001b[0m \u001b[0;34m-=\u001b[0m \u001b[0mself\u001b[0m\u001b[0;34m.\u001b[0m\u001b[0mmin_\u001b[0m\u001b[0;34m\u001b[0m\u001b[0;34m\u001b[0m\u001b[0m\n\u001b[0m\u001b[1;32m    530\u001b[0m         \u001b[0mX\u001b[0m \u001b[0;34m/=\u001b[0m \u001b[0mself\u001b[0m\u001b[0;34m.\u001b[0m\u001b[0mscale_\u001b[0m\u001b[0;34m\u001b[0m\u001b[0;34m\u001b[0m\u001b[0m\n\u001b[1;32m    531\u001b[0m         \u001b[0;32mreturn\u001b[0m \u001b[0mX\u001b[0m\u001b[0;34m\u001b[0m\u001b[0;34m\u001b[0m\u001b[0m\n",
            "\u001b[0;31mValueError\u001b[0m: non-broadcastable output operand with shape (3433,1) doesn't match the broadcast shape (3433,9)"
          ]
        }
      ]
    },
    {
      "cell_type": "code",
      "source": [
        "import matplotlib.pyplot as plt\n",
        "import pandas as pd\n",
        "import numpy as np\n",
        "from tensorflow.keras.models import Sequential\n",
        "from tensorflow.keras.layers import Dense\n",
        "from tensorflow.keras.layers import LSTM\n",
        "from tensorflow.keras.layers import Dropout\n",
        "from tensorflow.keras.layers import *\n",
        "from tensorflow.keras.callbacks import EarlyStopping\n",
        "\n",
        "from sklearn.preprocessing import MinMaxScaler, StandardScaler\n",
        "from sklearn.metrics import mean_squared_error\n",
        "from sklearn.metrics import mean_absolute_percentage_error\n",
        "from sklearn.model_selection import train_test_split\n",
        "from sklearn.model_selection import TimeSeriesSplit\n",
        "from sklearn.metrics import mean_squared_error"
      ],
      "metadata": {
        "id": "ALsTq4McTXgl"
      },
      "execution_count": null,
      "outputs": []
    },
    {
      "cell_type": "code",
      "source": [
        "target_y=data_final[\"Günəş enerjisi\"]\n",
        "X_feat=data_final.iloc[:, :-1]"
      ],
      "metadata": {
        "id": "WNIWHjV7WtoQ"
      },
      "execution_count": null,
      "outputs": []
    },
    {
      "cell_type": "code",
      "source": [
        "sc=StandardScaler()\n",
        "X_ft=sc.fit_transform(X_feat.values)\n",
        "X_ft=pd.DataFrame(columns=X_feat.columns,\n",
        "                  data=X_ft, index=X_feat.index)"
      ],
      "metadata": {
        "id": "kejbAI4DXYS1"
      },
      "execution_count": null,
      "outputs": []
    },
    {
      "cell_type": "code",
      "source": [
        "def lstm_split(data, n_steps):\n",
        "  X,y =[], []\n",
        "  for i in range(len(data)-n_steps+1):\n",
        "    X.append(data[i:i+n_steps, :-1])\n",
        "    y.append(data[i+n_steps-1,-1])\n",
        "  return np.array(X), np.array(y)"
      ],
      "metadata": {
        "id": "ThhvGoZQXruY"
      },
      "execution_count": null,
      "outputs": []
    },
    {
      "cell_type": "code",
      "source": [
        "X1, y1=lstm_split(data_final.values, n_steps=1)"
      ],
      "metadata": {
        "id": "hYRuwY35YNI6"
      },
      "execution_count": null,
      "outputs": []
    },
    {
      "cell_type": "code",
      "source": [
        "train_split=0.8\n",
        "split_idx=int(np.ceil(len(X1)*train_split))\n",
        "data_index=data_final.index"
      ],
      "metadata": {
        "id": "CE6Uft48Yz4o"
      },
      "execution_count": null,
      "outputs": []
    },
    {
      "cell_type": "code",
      "source": [
        "X_train, X_test=X1[:split_idx], X1[split_idx:]\n",
        "y_train, y_test=y1[:split_idx], y1[split_idx:]"
      ],
      "metadata": {
        "id": "u_2uBoNpZGp8"
      },
      "execution_count": null,
      "outputs": []
    },
    {
      "cell_type": "code",
      "source": [
        "X_train_date, X_test_date=data_index[:split_idx], data_index[split_idx:]\n",
        "print(X1.shape, X_train.shape, X_test.shape, y_test.shape)"
      ],
      "metadata": {
        "colab": {
          "base_uri": "https://localhost:8080/"
        },
        "id": "Nzdgci5gZRFK",
        "outputId": "8e7892f8-7564-49ab-b16e-e4f4a53d0f22"
      },
      "execution_count": null,
      "outputs": [
        {
          "output_type": "stream",
          "name": "stdout",
          "text": [
            "(5130, 1, 9) (4104, 1, 9) (1026, 1, 9) (1026,)\n"
          ]
        }
      ]
    },
    {
      "cell_type": "code",
      "source": [
        "lstm=Sequential()\n",
        "lstm.add(LSTM(32, input_shape=(X_train.shape[1], X_train.shape[2]), activation='relu', return_sequences=True))\n",
        "lstm.add(Dense(1))\n",
        "lstm.compile(loss='mean_squared_error', optimizer='adam')\n",
        "lstm.summary()"
      ],
      "metadata": {
        "colab": {
          "base_uri": "https://localhost:8080/"
        },
        "id": "BB8fJ8XYZmq3",
        "outputId": "0a259cb6-4932-41b5-b55e-da4d39b8fbcb"
      },
      "execution_count": null,
      "outputs": [
        {
          "output_type": "stream",
          "name": "stderr",
          "text": [
            "WARNING:tensorflow:Layer lstm_6 will not use cuDNN kernels since it doesn't meet the criteria. It will use a generic GPU kernel as fallback when running on GPU.\n"
          ]
        },
        {
          "output_type": "stream",
          "name": "stdout",
          "text": [
            "Model: \"sequential_12\"\n",
            "_________________________________________________________________\n",
            " Layer (type)                Output Shape              Param #   \n",
            "=================================================================\n",
            " lstm_6 (LSTM)               (None, 1, 32)             5376      \n",
            "                                                                 \n",
            " dense_35 (Dense)            (None, 1, 1)              33        \n",
            "                                                                 \n",
            "=================================================================\n",
            "Total params: 5,409\n",
            "Trainable params: 5,409\n",
            "Non-trainable params: 0\n",
            "_________________________________________________________________\n"
          ]
        }
      ]
    },
    {
      "cell_type": "code",
      "source": [
        "y_train.shape"
      ],
      "metadata": {
        "colab": {
          "base_uri": "https://localhost:8080/"
        },
        "id": "dMWDxEYoa0HI",
        "outputId": "03524372-a627-4d8b-891b-28749760171a"
      },
      "execution_count": null,
      "outputs": [
        {
          "output_type": "execute_result",
          "data": {
            "text/plain": [
              "(4104,)"
            ]
          },
          "metadata": {},
          "execution_count": 285
        }
      ]
    },
    {
      "cell_type": "code",
      "source": [
        "X_train = np.asarray(X_train).astype(np.float32)\n",
        "y_train = np.asarray(y_train).astype(np.float32)"
      ],
      "metadata": {
        "id": "0xJq76bdb2qh"
      },
      "execution_count": null,
      "outputs": []
    },
    {
      "cell_type": "code",
      "source": [
        "y_train"
      ],
      "metadata": {
        "colab": {
          "base_uri": "https://localhost:8080/"
        },
        "id": "xcG7HZd3c5os",
        "outputId": "6622f35c-8021-41c4-ed4f-8c946cba2584"
      },
      "execution_count": null,
      "outputs": [
        {
          "output_type": "execute_result",
          "data": {
            "text/plain": [
              "array([0., 0., 0., ..., 0., 0., 0.], dtype=float32)"
            ]
          },
          "metadata": {},
          "execution_count": 287
        }
      ]
    },
    {
      "cell_type": "code",
      "source": [
        "history=lstm.fit(X_train, y_train, epochs=10, batch_size=4, verbose=1,shuffle=False)"
      ],
      "metadata": {
        "colab": {
          "base_uri": "https://localhost:8080/"
        },
        "id": "qNfzZeTbaSqi",
        "outputId": "7c337821-a9a5-4634-b4db-6ab9040647b1"
      },
      "execution_count": null,
      "outputs": [
        {
          "output_type": "stream",
          "name": "stdout",
          "text": [
            "Epoch 1/10\n",
            "1026/1026 [==============================] - 4s 3ms/step - loss: 7.6284\n",
            "Epoch 2/10\n",
            "1026/1026 [==============================] - 3s 3ms/step - loss: 4.2377\n",
            "Epoch 3/10\n",
            "1026/1026 [==============================] - 3s 3ms/step - loss: 3.5200\n",
            "Epoch 4/10\n",
            "1026/1026 [==============================] - 3s 3ms/step - loss: 3.1577\n",
            "Epoch 5/10\n",
            "1026/1026 [==============================] - 3s 3ms/step - loss: 3.0536\n",
            "Epoch 6/10\n",
            "1026/1026 [==============================] - 3s 3ms/step - loss: 2.9872\n",
            "Epoch 7/10\n",
            "1026/1026 [==============================] - 3s 3ms/step - loss: 2.9523\n",
            "Epoch 8/10\n",
            "1026/1026 [==============================] - 3s 3ms/step - loss: 2.9215\n",
            "Epoch 9/10\n",
            "1026/1026 [==============================] - 3s 3ms/step - loss: 2.8888\n",
            "Epoch 10/10\n",
            "1026/1026 [==============================] - 3s 3ms/step - loss: 2.8682\n"
          ]
        }
      ]
    },
    {
      "cell_type": "code",
      "source": [
        "X_test = np.asarray(X_test).astype(np.float32)\n",
        "y_test = np.asarray(y_test).astype(np.float32)"
      ],
      "metadata": {
        "id": "S23RRIcRatvX"
      },
      "execution_count": null,
      "outputs": []
    },
    {
      "cell_type": "code",
      "source": [
        "y_pred=lstm.predict(X_train)\n",
        "y_pred2=lstm.predict(X_test)"
      ],
      "metadata": {
        "id": "R6tS2fyjbbpF"
      },
      "execution_count": null,
      "outputs": []
    },
    {
      "cell_type": "code",
      "source": [
        "y_test"
      ],
      "metadata": {
        "colab": {
          "base_uri": "https://localhost:8080/"
        },
        "id": "3gVpB0YjeubZ",
        "outputId": "c985cbd9-4bb7-4092-eee0-7f5a0285acdb"
      },
      "execution_count": null,
      "outputs": [
        {
          "output_type": "execute_result",
          "data": {
            "text/plain": [
              "array([0.       , 0.       , 0.       , ..., 5.6680717, 6.012536 ,\n",
              "       5.0901155], dtype=float32)"
            ]
          },
          "metadata": {},
          "execution_count": 297
        }
      ]
    },
    {
      "cell_type": "code",
      "source": [
        "y_pred[:,0][:, 0]"
      ],
      "metadata": {
        "colab": {
          "base_uri": "https://localhost:8080/"
        },
        "id": "_kYMhv8Lcm90",
        "outputId": "1bc338a6-76c5-48a7-dcee-2d02eea5f17b"
      },
      "execution_count": null,
      "outputs": [
        {
          "output_type": "execute_result",
          "data": {
            "text/plain": [
              "array([-0.23825541, -0.08235756,  0.5287961 , ...,  6.1170897 ,\n",
              "        5.7208724 ,  4.721501  ], dtype=float32)"
            ]
          },
          "metadata": {},
          "execution_count": 301
        }
      ]
    },
    {
      "cell_type": "code",
      "source": [
        "rmse=mean_squared_error(y_test, y_pred[:,0][:, 0], squared=False)"
      ],
      "metadata": {
        "id": "kerAXwyDcasJ"
      },
      "execution_count": null,
      "outputs": []
    },
    {
      "cell_type": "code",
      "source": [],
      "metadata": {
        "id": "qojKZEJdlenc"
      },
      "execution_count": null,
      "outputs": []
    },
    {
      "cell_type": "code",
      "source": [
        "range1"
      ],
      "metadata": {
        "colab": {
          "base_uri": "https://localhost:8080/"
        },
        "id": "_7VlxR5Dl8Au",
        "outputId": "1bb7de3f-4089-4118-8bb0-129d01ab90ac"
      },
      "execution_count": null,
      "outputs": [
        {
          "output_type": "execute_result",
          "data": {
            "text/plain": [
              "[0,\n",
              " 30,\n",
              " 60,\n",
              " 90,\n",
              " 120,\n",
              " 150,\n",
              " 180,\n",
              " 210,\n",
              " 240,\n",
              " 270,\n",
              " 300,\n",
              " 330,\n",
              " 360,\n",
              " 390,\n",
              " 420,\n",
              " 450,\n",
              " 480,\n",
              " 510,\n",
              " 540,\n",
              " 570,\n",
              " 600,\n",
              " 630,\n",
              " 660,\n",
              " 690,\n",
              " 720,\n",
              " 750,\n",
              " 780,\n",
              " 810,\n",
              " 840,\n",
              " 870,\n",
              " 900,\n",
              " 930,\n",
              " 960,\n",
              " 990,\n",
              " 1020,\n",
              " 1050,\n",
              " 1080,\n",
              " 1110,\n",
              " 1140,\n",
              " 1170,\n",
              " 1200,\n",
              " 1230,\n",
              " 1260,\n",
              " 1290,\n",
              " 1320,\n",
              " 1350,\n",
              " 1380,\n",
              " 1410,\n",
              " 1440,\n",
              " 1470,\n",
              " 1500,\n",
              " 1530,\n",
              " 1560,\n",
              " 1590,\n",
              " 1620,\n",
              " 1650,\n",
              " 1680,\n",
              " 1710,\n",
              " 1740,\n",
              " 1770,\n",
              " 1800,\n",
              " 1830,\n",
              " 1860,\n",
              " 1890,\n",
              " 1920,\n",
              " 1950,\n",
              " 1980,\n",
              " 2010,\n",
              " 2040,\n",
              " 2070,\n",
              " 2100,\n",
              " 2130,\n",
              " 2160,\n",
              " 2190,\n",
              " 2220,\n",
              " 2250,\n",
              " 2280,\n",
              " 2310,\n",
              " 2340,\n",
              " 2370,\n",
              " 2400,\n",
              " 2430,\n",
              " 2460,\n",
              " 2490,\n",
              " 2520,\n",
              " 2550,\n",
              " 2580,\n",
              " 2610,\n",
              " 2640,\n",
              " 2670,\n",
              " 2700,\n",
              " 2730,\n",
              " 2760,\n",
              " 2790,\n",
              " 2820,\n",
              " 2850,\n",
              " 2880,\n",
              " 2910,\n",
              " 2940,\n",
              " 2970,\n",
              " 3000,\n",
              " 3030,\n",
              " 3060,\n",
              " 3090,\n",
              " 3120,\n",
              " 3150,\n",
              " 3180,\n",
              " 3210,\n",
              " 3240,\n",
              " 3270,\n",
              " 3300,\n",
              " 3330,\n",
              " 3360,\n",
              " 3390,\n",
              " 3420,\n",
              " 3450,\n",
              " 3480,\n",
              " 3510,\n",
              " 3540,\n",
              " 3570,\n",
              " 3600,\n",
              " 3630,\n",
              " 3660,\n",
              " 3690,\n",
              " 3720,\n",
              " 3750,\n",
              " 3780,\n",
              " 3810,\n",
              " 3840,\n",
              " 3870,\n",
              " 3900,\n",
              " 3930,\n",
              " 3960,\n",
              " 3990,\n",
              " 4020,\n",
              " 4050,\n",
              " 4080]"
            ]
          },
          "metadata": {},
          "execution_count": 359
        }
      ]
    },
    {
      "cell_type": "code",
      "source": [
        "data_final2=data.iloc[:split_idx,:]\n",
        "data_final3=data.iloc[split_idx:,:]"
      ],
      "metadata": {
        "id": "1FV8TYCvhvqr"
      },
      "execution_count": null,
      "outputs": []
    },
    {
      "cell_type": "code",
      "source": [
        "data_final2[\"prediction\"]= y_pred[:,0][:, 0]\n",
        "data_final3[\"prediction\"]= y_pred2[:,0][:, 0]"
      ],
      "metadata": {
        "id": "TRufzvyribDI"
      },
      "execution_count": null,
      "outputs": []
    },
    {
      "cell_type": "code",
      "source": [
        "range1=[i for i in range(0,data_final2.shape[0],120)] \n",
        "range2=[i for i in range(0,data_final3.shape[0],120)]"
      ],
      "metadata": {
        "id": "U6HxAsFKnR9F"
      },
      "execution_count": null,
      "outputs": []
    },
    {
      "cell_type": "code",
      "source": [
        "data_final2=data_final2.iloc[range1,:]\n",
        "data_final3=data_final3.iloc[range2,:]"
      ],
      "metadata": {
        "id": "j3tzGD6GmzgS"
      },
      "execution_count": null,
      "outputs": []
    },
    {
      "cell_type": "code",
      "source": [
        "data_final2.head()"
      ],
      "metadata": {
        "colab": {
          "base_uri": "https://localhost:8080/",
          "height": 354
        },
        "id": "XgfKr7senIUC",
        "outputId": "b8b4c8fc-152f-4574-d62d-b54eba7253a6"
      },
      "execution_count": null,
      "outputs": [
        {
          "output_type": "execute_result",
          "data": {
            "text/plain": [
              "    Gün çıxma Gün batma      Tarix  Hava şəraiti Tarix_ay  Fəsil  Panel sayı  \\\n",
              "0    08:00:00  17:24:00 2021-01-01             1        1      0          25   \n",
              "120  06:00:00  19:24:00 2021-01-06             1        1      0          25   \n",
              "240  06:51:00  18:33:00 2021-01-11             3        1      0          13   \n",
              "360  07:42:00  17:42:00 2021-01-16             1        1      0          21   \n",
              "480  05:42:00  19:42:00 2021-01-21             1        1      0          21   \n",
              "\n",
              "     Panel gücü Tarix_gün Tarix_saat  Gün çıxa saat  Gün bata saat  \\\n",
              "0            40         1          0              8             17   \n",
              "120         100         6          0              6             19   \n",
              "240          60        11          0              6             18   \n",
              "360          80        16          0              7             17   \n",
              "480          40        21          0              5             19   \n",
              "\n",
              "     AC System Output (W)  Günəş enerjisi  prediction  \n",
              "0                     0.0             0.0    0.123109  \n",
              "120                   0.0             0.0   -0.067486  \n",
              "240                   0.0             0.0    0.092407  \n",
              "360                   0.0             0.0   -0.111245  \n",
              "480                   0.0             0.0    0.165544  "
            ],
            "text/html": [
              "\n",
              "  <div id=\"df-2da2d2d5-85da-4fd1-b992-1d2f9c88a7b5\">\n",
              "    <div class=\"colab-df-container\">\n",
              "      <div>\n",
              "<style scoped>\n",
              "    .dataframe tbody tr th:only-of-type {\n",
              "        vertical-align: middle;\n",
              "    }\n",
              "\n",
              "    .dataframe tbody tr th {\n",
              "        vertical-align: top;\n",
              "    }\n",
              "\n",
              "    .dataframe thead th {\n",
              "        text-align: right;\n",
              "    }\n",
              "</style>\n",
              "<table border=\"1\" class=\"dataframe\">\n",
              "  <thead>\n",
              "    <tr style=\"text-align: right;\">\n",
              "      <th></th>\n",
              "      <th>Gün çıxma</th>\n",
              "      <th>Gün batma</th>\n",
              "      <th>Tarix</th>\n",
              "      <th>Hava şəraiti</th>\n",
              "      <th>Tarix_ay</th>\n",
              "      <th>Fəsil</th>\n",
              "      <th>Panel sayı</th>\n",
              "      <th>Panel gücü</th>\n",
              "      <th>Tarix_gün</th>\n",
              "      <th>Tarix_saat</th>\n",
              "      <th>Gün çıxa saat</th>\n",
              "      <th>Gün bata saat</th>\n",
              "      <th>AC System Output (W)</th>\n",
              "      <th>Günəş enerjisi</th>\n",
              "      <th>prediction</th>\n",
              "    </tr>\n",
              "  </thead>\n",
              "  <tbody>\n",
              "    <tr>\n",
              "      <th>0</th>\n",
              "      <td>08:00:00</td>\n",
              "      <td>17:24:00</td>\n",
              "      <td>2021-01-01</td>\n",
              "      <td>1</td>\n",
              "      <td>1</td>\n",
              "      <td>0</td>\n",
              "      <td>25</td>\n",
              "      <td>40</td>\n",
              "      <td>1</td>\n",
              "      <td>0</td>\n",
              "      <td>8</td>\n",
              "      <td>17</td>\n",
              "      <td>0.0</td>\n",
              "      <td>0.0</td>\n",
              "      <td>0.123109</td>\n",
              "    </tr>\n",
              "    <tr>\n",
              "      <th>120</th>\n",
              "      <td>06:00:00</td>\n",
              "      <td>19:24:00</td>\n",
              "      <td>2021-01-06</td>\n",
              "      <td>1</td>\n",
              "      <td>1</td>\n",
              "      <td>0</td>\n",
              "      <td>25</td>\n",
              "      <td>100</td>\n",
              "      <td>6</td>\n",
              "      <td>0</td>\n",
              "      <td>6</td>\n",
              "      <td>19</td>\n",
              "      <td>0.0</td>\n",
              "      <td>0.0</td>\n",
              "      <td>-0.067486</td>\n",
              "    </tr>\n",
              "    <tr>\n",
              "      <th>240</th>\n",
              "      <td>06:51:00</td>\n",
              "      <td>18:33:00</td>\n",
              "      <td>2021-01-11</td>\n",
              "      <td>3</td>\n",
              "      <td>1</td>\n",
              "      <td>0</td>\n",
              "      <td>13</td>\n",
              "      <td>60</td>\n",
              "      <td>11</td>\n",
              "      <td>0</td>\n",
              "      <td>6</td>\n",
              "      <td>18</td>\n",
              "      <td>0.0</td>\n",
              "      <td>0.0</td>\n",
              "      <td>0.092407</td>\n",
              "    </tr>\n",
              "    <tr>\n",
              "      <th>360</th>\n",
              "      <td>07:42:00</td>\n",
              "      <td>17:42:00</td>\n",
              "      <td>2021-01-16</td>\n",
              "      <td>1</td>\n",
              "      <td>1</td>\n",
              "      <td>0</td>\n",
              "      <td>21</td>\n",
              "      <td>80</td>\n",
              "      <td>16</td>\n",
              "      <td>0</td>\n",
              "      <td>7</td>\n",
              "      <td>17</td>\n",
              "      <td>0.0</td>\n",
              "      <td>0.0</td>\n",
              "      <td>-0.111245</td>\n",
              "    </tr>\n",
              "    <tr>\n",
              "      <th>480</th>\n",
              "      <td>05:42:00</td>\n",
              "      <td>19:42:00</td>\n",
              "      <td>2021-01-21</td>\n",
              "      <td>1</td>\n",
              "      <td>1</td>\n",
              "      <td>0</td>\n",
              "      <td>21</td>\n",
              "      <td>40</td>\n",
              "      <td>21</td>\n",
              "      <td>0</td>\n",
              "      <td>5</td>\n",
              "      <td>19</td>\n",
              "      <td>0.0</td>\n",
              "      <td>0.0</td>\n",
              "      <td>0.165544</td>\n",
              "    </tr>\n",
              "  </tbody>\n",
              "</table>\n",
              "</div>\n",
              "      <button class=\"colab-df-convert\" onclick=\"convertToInteractive('df-2da2d2d5-85da-4fd1-b992-1d2f9c88a7b5')\"\n",
              "              title=\"Convert this dataframe to an interactive table.\"\n",
              "              style=\"display:none;\">\n",
              "        \n",
              "  <svg xmlns=\"http://www.w3.org/2000/svg\" height=\"24px\"viewBox=\"0 0 24 24\"\n",
              "       width=\"24px\">\n",
              "    <path d=\"M0 0h24v24H0V0z\" fill=\"none\"/>\n",
              "    <path d=\"M18.56 5.44l.94 2.06.94-2.06 2.06-.94-2.06-.94-.94-2.06-.94 2.06-2.06.94zm-11 1L8.5 8.5l.94-2.06 2.06-.94-2.06-.94L8.5 2.5l-.94 2.06-2.06.94zm10 10l.94 2.06.94-2.06 2.06-.94-2.06-.94-.94-2.06-.94 2.06-2.06.94z\"/><path d=\"M17.41 7.96l-1.37-1.37c-.4-.4-.92-.59-1.43-.59-.52 0-1.04.2-1.43.59L10.3 9.45l-7.72 7.72c-.78.78-.78 2.05 0 2.83L4 21.41c.39.39.9.59 1.41.59.51 0 1.02-.2 1.41-.59l7.78-7.78 2.81-2.81c.8-.78.8-2.07 0-2.86zM5.41 20L4 18.59l7.72-7.72 1.47 1.35L5.41 20z\"/>\n",
              "  </svg>\n",
              "      </button>\n",
              "      \n",
              "  <style>\n",
              "    .colab-df-container {\n",
              "      display:flex;\n",
              "      flex-wrap:wrap;\n",
              "      gap: 12px;\n",
              "    }\n",
              "\n",
              "    .colab-df-convert {\n",
              "      background-color: #E8F0FE;\n",
              "      border: none;\n",
              "      border-radius: 50%;\n",
              "      cursor: pointer;\n",
              "      display: none;\n",
              "      fill: #1967D2;\n",
              "      height: 32px;\n",
              "      padding: 0 0 0 0;\n",
              "      width: 32px;\n",
              "    }\n",
              "\n",
              "    .colab-df-convert:hover {\n",
              "      background-color: #E2EBFA;\n",
              "      box-shadow: 0px 1px 2px rgba(60, 64, 67, 0.3), 0px 1px 3px 1px rgba(60, 64, 67, 0.15);\n",
              "      fill: #174EA6;\n",
              "    }\n",
              "\n",
              "    [theme=dark] .colab-df-convert {\n",
              "      background-color: #3B4455;\n",
              "      fill: #D2E3FC;\n",
              "    }\n",
              "\n",
              "    [theme=dark] .colab-df-convert:hover {\n",
              "      background-color: #434B5C;\n",
              "      box-shadow: 0px 1px 3px 1px rgba(0, 0, 0, 0.15);\n",
              "      filter: drop-shadow(0px 1px 2px rgba(0, 0, 0, 0.3));\n",
              "      fill: #FFFFFF;\n",
              "    }\n",
              "  </style>\n",
              "\n",
              "      <script>\n",
              "        const buttonEl =\n",
              "          document.querySelector('#df-2da2d2d5-85da-4fd1-b992-1d2f9c88a7b5 button.colab-df-convert');\n",
              "        buttonEl.style.display =\n",
              "          google.colab.kernel.accessAllowed ? 'block' : 'none';\n",
              "\n",
              "        async function convertToInteractive(key) {\n",
              "          const element = document.querySelector('#df-2da2d2d5-85da-4fd1-b992-1d2f9c88a7b5');\n",
              "          const dataTable =\n",
              "            await google.colab.kernel.invokeFunction('convertToInteractive',\n",
              "                                                     [key], {});\n",
              "          if (!dataTable) return;\n",
              "\n",
              "          const docLinkHtml = 'Like what you see? Visit the ' +\n",
              "            '<a target=\"_blank\" href=https://colab.research.google.com/notebooks/data_table.ipynb>data table notebook</a>'\n",
              "            + ' to learn more about interactive tables.';\n",
              "          element.innerHTML = '';\n",
              "          dataTable['output_type'] = 'display_data';\n",
              "          await google.colab.output.renderOutput(dataTable, element);\n",
              "          const docLink = document.createElement('div');\n",
              "          docLink.innerHTML = docLinkHtml;\n",
              "          element.appendChild(docLink);\n",
              "        }\n",
              "      </script>\n",
              "    </div>\n",
              "  </div>\n",
              "  "
            ]
          },
          "metadata": {},
          "execution_count": 424
        }
      ]
    },
    {
      "cell_type": "code",
      "source": [
        "data_final2=data_final2[[\"Tarix\",\"prediction\" ]]\n",
        "data_final2.index=data_final2[\"Tarix\"]\n",
        "data_final2.drop(columns=[\"Tarix\"], inplace=True)\n",
        "\n",
        "data_final3=data_final3[[\"Tarix\",\"prediction\" ]]\n",
        "data_final3.index=data_final3[\"Tarix\"]\n",
        "data_final3.drop(columns=[\"Tarix\"], inplace=True)"
      ],
      "metadata": {
        "id": "AOsrtVumi3DO"
      },
      "execution_count": null,
      "outputs": []
    },
    {
      "cell_type": "code",
      "source": [
        "data_final2.head()"
      ],
      "metadata": {
        "colab": {
          "base_uri": "https://localhost:8080/",
          "height": 237
        },
        "id": "dT0d8YrGilcG",
        "outputId": "97d92ff9-e60e-45eb-9918-216b13a03fe1"
      },
      "execution_count": null,
      "outputs": [
        {
          "output_type": "execute_result",
          "data": {
            "text/plain": [
              "            prediction\n",
              "Tarix                 \n",
              "2021-01-01    0.123109\n",
              "2021-01-06   -0.067486\n",
              "2021-01-11    0.092407\n",
              "2021-01-16   -0.111245\n",
              "2021-01-21    0.165544"
            ],
            "text/html": [
              "\n",
              "  <div id=\"df-577e3700-d391-48a4-a1de-5a73fd6f2825\">\n",
              "    <div class=\"colab-df-container\">\n",
              "      <div>\n",
              "<style scoped>\n",
              "    .dataframe tbody tr th:only-of-type {\n",
              "        vertical-align: middle;\n",
              "    }\n",
              "\n",
              "    .dataframe tbody tr th {\n",
              "        vertical-align: top;\n",
              "    }\n",
              "\n",
              "    .dataframe thead th {\n",
              "        text-align: right;\n",
              "    }\n",
              "</style>\n",
              "<table border=\"1\" class=\"dataframe\">\n",
              "  <thead>\n",
              "    <tr style=\"text-align: right;\">\n",
              "      <th></th>\n",
              "      <th>prediction</th>\n",
              "    </tr>\n",
              "    <tr>\n",
              "      <th>Tarix</th>\n",
              "      <th></th>\n",
              "    </tr>\n",
              "  </thead>\n",
              "  <tbody>\n",
              "    <tr>\n",
              "      <th>2021-01-01</th>\n",
              "      <td>0.123109</td>\n",
              "    </tr>\n",
              "    <tr>\n",
              "      <th>2021-01-06</th>\n",
              "      <td>-0.067486</td>\n",
              "    </tr>\n",
              "    <tr>\n",
              "      <th>2021-01-11</th>\n",
              "      <td>0.092407</td>\n",
              "    </tr>\n",
              "    <tr>\n",
              "      <th>2021-01-16</th>\n",
              "      <td>-0.111245</td>\n",
              "    </tr>\n",
              "    <tr>\n",
              "      <th>2021-01-21</th>\n",
              "      <td>0.165544</td>\n",
              "    </tr>\n",
              "  </tbody>\n",
              "</table>\n",
              "</div>\n",
              "      <button class=\"colab-df-convert\" onclick=\"convertToInteractive('df-577e3700-d391-48a4-a1de-5a73fd6f2825')\"\n",
              "              title=\"Convert this dataframe to an interactive table.\"\n",
              "              style=\"display:none;\">\n",
              "        \n",
              "  <svg xmlns=\"http://www.w3.org/2000/svg\" height=\"24px\"viewBox=\"0 0 24 24\"\n",
              "       width=\"24px\">\n",
              "    <path d=\"M0 0h24v24H0V0z\" fill=\"none\"/>\n",
              "    <path d=\"M18.56 5.44l.94 2.06.94-2.06 2.06-.94-2.06-.94-.94-2.06-.94 2.06-2.06.94zm-11 1L8.5 8.5l.94-2.06 2.06-.94-2.06-.94L8.5 2.5l-.94 2.06-2.06.94zm10 10l.94 2.06.94-2.06 2.06-.94-2.06-.94-.94-2.06-.94 2.06-2.06.94z\"/><path d=\"M17.41 7.96l-1.37-1.37c-.4-.4-.92-.59-1.43-.59-.52 0-1.04.2-1.43.59L10.3 9.45l-7.72 7.72c-.78.78-.78 2.05 0 2.83L4 21.41c.39.39.9.59 1.41.59.51 0 1.02-.2 1.41-.59l7.78-7.78 2.81-2.81c.8-.78.8-2.07 0-2.86zM5.41 20L4 18.59l7.72-7.72 1.47 1.35L5.41 20z\"/>\n",
              "  </svg>\n",
              "      </button>\n",
              "      \n",
              "  <style>\n",
              "    .colab-df-container {\n",
              "      display:flex;\n",
              "      flex-wrap:wrap;\n",
              "      gap: 12px;\n",
              "    }\n",
              "\n",
              "    .colab-df-convert {\n",
              "      background-color: #E8F0FE;\n",
              "      border: none;\n",
              "      border-radius: 50%;\n",
              "      cursor: pointer;\n",
              "      display: none;\n",
              "      fill: #1967D2;\n",
              "      height: 32px;\n",
              "      padding: 0 0 0 0;\n",
              "      width: 32px;\n",
              "    }\n",
              "\n",
              "    .colab-df-convert:hover {\n",
              "      background-color: #E2EBFA;\n",
              "      box-shadow: 0px 1px 2px rgba(60, 64, 67, 0.3), 0px 1px 3px 1px rgba(60, 64, 67, 0.15);\n",
              "      fill: #174EA6;\n",
              "    }\n",
              "\n",
              "    [theme=dark] .colab-df-convert {\n",
              "      background-color: #3B4455;\n",
              "      fill: #D2E3FC;\n",
              "    }\n",
              "\n",
              "    [theme=dark] .colab-df-convert:hover {\n",
              "      background-color: #434B5C;\n",
              "      box-shadow: 0px 1px 3px 1px rgba(0, 0, 0, 0.15);\n",
              "      filter: drop-shadow(0px 1px 2px rgba(0, 0, 0, 0.3));\n",
              "      fill: #FFFFFF;\n",
              "    }\n",
              "  </style>\n",
              "\n",
              "      <script>\n",
              "        const buttonEl =\n",
              "          document.querySelector('#df-577e3700-d391-48a4-a1de-5a73fd6f2825 button.colab-df-convert');\n",
              "        buttonEl.style.display =\n",
              "          google.colab.kernel.accessAllowed ? 'block' : 'none';\n",
              "\n",
              "        async function convertToInteractive(key) {\n",
              "          const element = document.querySelector('#df-577e3700-d391-48a4-a1de-5a73fd6f2825');\n",
              "          const dataTable =\n",
              "            await google.colab.kernel.invokeFunction('convertToInteractive',\n",
              "                                                     [key], {});\n",
              "          if (!dataTable) return;\n",
              "\n",
              "          const docLinkHtml = 'Like what you see? Visit the ' +\n",
              "            '<a target=\"_blank\" href=https://colab.research.google.com/notebooks/data_table.ipynb>data table notebook</a>'\n",
              "            + ' to learn more about interactive tables.';\n",
              "          element.innerHTML = '';\n",
              "          dataTable['output_type'] = 'display_data';\n",
              "          await google.colab.output.renderOutput(dataTable, element);\n",
              "          const docLink = document.createElement('div');\n",
              "          docLink.innerHTML = docLinkHtml;\n",
              "          element.appendChild(docLink);\n",
              "        }\n",
              "      </script>\n",
              "    </div>\n",
              "  </div>\n",
              "  "
            ]
          },
          "metadata": {},
          "execution_count": 426
        }
      ]
    },
    {
      "cell_type": "code",
      "source": [
        "X_train.shape"
      ],
      "metadata": {
        "colab": {
          "base_uri": "https://localhost:8080/"
        },
        "id": "8AW69r2MghuS",
        "outputId": "a63d78ba-5312-465e-ffab-77716bcbfed9"
      },
      "execution_count": null,
      "outputs": [
        {
          "output_type": "execute_result",
          "data": {
            "text/plain": [
              "(4104, 1, 9)"
            ]
          },
          "metadata": {},
          "execution_count": 427
        }
      ]
    },
    {
      "cell_type": "code",
      "source": [
        "split_idx"
      ],
      "metadata": {
        "colab": {
          "base_uri": "https://localhost:8080/"
        },
        "id": "tnr-G35piFWK",
        "outputId": "9c8fcd0c-9934-409c-81a4-883ea6c10ff5"
      },
      "execution_count": null,
      "outputs": [
        {
          "output_type": "execute_result",
          "data": {
            "text/plain": [
              "4104"
            ]
          },
          "metadata": {},
          "execution_count": 428
        }
      ]
    },
    {
      "cell_type": "code",
      "source": [
        "import pandas as pd \n",
        "import numpy as np          # For mathematical calculations \n",
        "import matplotlib.pyplot as plt  # For plotting graphs \n",
        "from datetime import datetime    # To access datetime \n",
        "from pandas import Series        # To work on series \n",
        "%matplotlib inline \n",
        "import warnings                   # To ignore the warnings\n",
        "warnings.filterwarnings(\"ignore\")"
      ],
      "metadata": {
        "id": "wYl2Z1UkkPAN"
      },
      "execution_count": null,
      "outputs": []
    },
    {
      "cell_type": "code",
      "source": [
        "#dd= np.asarray(Train.Count) \n",
        "#y_hat = valid.copy() \n",
        "#y_hat['naive'] = dd[len(dd)-1] \n",
        "plt.figure(figsize=(12,8)) \n",
        "plt.plot(data_final2.index, data_final2['prediction'], label='Train') \n",
        "plt.plot(data_final3.index,data_final3['prediction'], label='Valid') \n",
        "#plt.plot(y_hat.index,y_hat['naive'], label='Naive Forecast') \n",
        "plt.legend(loc='best') \n",
        "plt.title(\"AI Forecast\") \n",
        "plt.show()"
      ],
      "metadata": {
        "colab": {
          "base_uri": "https://localhost:8080/",
          "height": 499
        },
        "id": "XOm0kYXTkhZC",
        "outputId": "80e77d67-eee6-436d-f4ea-b421c4960c1f"
      },
      "execution_count": null,
      "outputs": [
        {
          "output_type": "display_data",
          "data": {
            "text/plain": [
              "<Figure size 864x576 with 1 Axes>"
            ],
            "image/png": "[encoded data removed]"
          },
          "metadata": {
            "needs_background": "light"
          }
        }
      ]
    },
    {
      "cell_type": "code",
      "source": [],
      "metadata": {
        "id": "gT0xbBdf2qPn"
      },
      "execution_count": null,
      "outputs": []
    }
  ]
}